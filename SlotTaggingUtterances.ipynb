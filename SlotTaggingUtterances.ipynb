{
 "cells": [
  {
   "attachments": {},
   "cell_type": "markdown",
   "id": "df348f3d",
   "metadata": {},
   "source": [
    "# Imports"
   ]
  },
  {
   "cell_type": "code",
   "execution_count": 1,
   "id": "6c00405d",
   "metadata": {},
   "outputs": [
    {
     "name": "stdout",
     "output_type": "stream",
     "text": [
      "Device:  cpu\n"
     ]
    }
   ],
   "source": [
    "import torch\n",
    "import torch.nn as nn\n",
    "from torch.utils.data import Dataset, DataLoader\n",
    "from torch.nn.utils.rnn import pad_sequence\n",
    "\n",
    "import numpy as np\n",
    "import pandas as pd\n",
    "import optuna\n",
    "import seaborn as sns\n",
    "import contractions\n",
    "import operator\n",
    "import matplotlib.pyplot as plt\n",
    "from itertools import islice\n",
    "%matplotlib inline\n",
    "\n",
    "from sklearn.model_selection import train_test_split\n",
    "\n",
    "from seqeval.metrics import f1_score\n",
    "from seqeval.scheme import IOB2\n",
    "\n",
    "from tqdm import tqdm\n",
    "\n",
    "import spacy\n",
    "nlp = spacy.load(\"en_core_web_sm\")\n",
    "from spacy.tokenizer import Tokenizer\n",
    "tokenizer = Tokenizer(nlp.vocab)\n",
    "\n",
    "# Set device = CUDA if available\n",
    "if torch.cuda.is_available():\n",
    "    dev = 'cuda'\n",
    "elif torch.backends.mps.is_available():\n",
    "    dev = 'mps'\n",
    "else:\n",
    "    dev = 'cpu'\n",
    "device = torch.device(dev)    \n",
    "print(f'Device: {device}')"
   ]
  },
  {
   "attachments": {},
   "cell_type": "markdown",
   "id": "8c726e86",
   "metadata": {},
   "source": [
    "# Reading CSV File into Pandas DataFrame"
   ]
  },
  {
   "cell_type": "code",
   "execution_count": 2,
   "id": "34b898e3",
   "metadata": {},
   "outputs": [
    {
     "name": "stdout",
     "output_type": "stream",
     "text": [
      "Train Set Shape: (2312, 2)\n",
      "Train Set with unequal rows removed Shape:  (2253, 2)\n",
      "Test Set Shape: (981, 1)\n"
     ]
    }
   ],
   "source": [
    "# Reading Train Dataset into DataFrame\n",
    "dataF = pd.read_csv('Data/hw2_train.csv', index_col = 0)\n",
    "dataF.columns = ['texts', 'tags']\n",
    "print('Train Set Shape:', dataF.shape)\n",
    "\n",
    "# Removing unequal texts and tags from train dataset\n",
    "list_of_dict = []\n",
    "for idx, row in dataF.iterrows():\n",
    "    temp_dict = {}\n",
    "    len_text = len(row['texts'].split())\n",
    "    len_tag = len(row['tags'].split())\n",
    "    if(len_text == len_tag):\n",
    "        temp_dict['texts'] = row['texts']\n",
    "        temp_dict['tags'] = row['tags']\n",
    "        list_of_dict.append(temp_dict)\n",
    "df = pd.DataFrame.from_dict(list_of_dict)\n",
    "print('Train Set with unequal rows removed Shape: ', df.shape)\n",
    "\n",
    "# Reading Test Dataset into DataFrame\n",
    "test_data = pd.read_csv('Data/hw2_test.csv', index_col = 0)\n",
    "test_data.columns = ['texts']\n",
    "print('Test Set Shape:', test_data.shape)"
   ]
  },
  {
   "attachments": {},
   "cell_type": "markdown",
   "id": "a620c5d0",
   "metadata": {},
   "source": [
    "# Splitting the Training dataset into the Training set and Validation set"
   ]
  },
  {
   "cell_type": "code",
   "execution_count": 3,
   "id": "d233c178",
   "metadata": {},
   "outputs": [
    {
     "name": "stdout",
     "output_type": "stream",
     "text": [
      "Train Data Shape:  (1689, 2)\n",
      "Val Data Shape:  (564, 2)\n"
     ]
    }
   ],
   "source": [
    "train_data, val_data = train_test_split(df,\n",
    "                                        random_state = 32, \n",
    "                                        test_size = 0.25, \n",
    "                                        shuffle = True)\n",
    "print('Train Data Shape: ', train_data.shape)\n",
    "print('Val Data Shape: ', val_data.shape)"
   ]
  },
  {
   "attachments": {},
   "cell_type": "markdown",
   "id": "2c996a14",
   "metadata": {},
   "source": [
    "# Load Pre-Trained GloVe Word Embeddings"
   ]
  },
  {
   "cell_type": "code",
   "execution_count": 4,
   "id": "b379312a",
   "metadata": {},
   "outputs": [
    {
     "name": "stdout",
     "output_type": "stream",
     "text": [
      "GloVe Embeddings Length:  2196009\n"
     ]
    }
   ],
   "source": [
    "glove = pd.read_csv('Data/gloVe/glove.840B.300d.txt', sep = ' ', quoting = 3, header = None, index_col = 0)\n",
    "glove_embedding = {key: val.values for key, val in glove.T.items()}\n",
    "print('GloVe Embeddings Length: ', len(glove_embedding))"
   ]
  },
  {
   "attachments": {},
   "cell_type": "markdown",
   "id": "78e64071",
   "metadata": {},
   "source": [
    "# Create NumPy Array for Vocab and Emeddings"
   ]
  },
  {
   "cell_type": "code",
   "execution_count": 5,
   "id": "68c21e07",
   "metadata": {},
   "outputs": [
    {
     "name": "stdout",
     "output_type": "stream",
     "text": [
      "Vocab Shape:  (2196009,)\n",
      "Embeddings Shape:  (2196009, 300)\n"
     ]
    }
   ],
   "source": [
    "vocab = list(glove_embedding.keys())\n",
    "embeddings = list(glove_embedding.values())\n",
    "\n",
    "vocab = np.array(vocab)\n",
    "embeddings = np.array(embeddings)\n",
    "print('Vocab Shape: ', vocab.shape)\n",
    "print('Embeddings Shape: ', embeddings.shape)"
   ]
  },
  {
   "cell_type": "code",
   "execution_count": 6,
   "id": "dbea4f52",
   "metadata": {},
   "outputs": [
    {
     "name": "stdout",
     "output_type": "stream",
     "text": [
      "Vocab Shape:  (2196011,)\n",
      "Embeddings Shape:  (2196011, 300)\n"
     ]
    }
   ],
   "source": [
    "# Insert '<pad>' and '<unk>' tokens at start of vocab\n",
    "vocab = np.insert(vocab, 0, '<pad>')\n",
    "vocab = np.insert(vocab, 1, '<unk>')\n",
    "print('Vocab Shape: ', vocab.shape)\n",
    "\n",
    "# Insert embeddings for pad and unk tokens at top of embeddings\n",
    "embedding_pad = np.zeros((1, \n",
    "                          embeddings.shape[1]))\n",
    "embedding_unk = np.mean(embeddings, \n",
    "                        axis = 0, \n",
    "                        keepdims = True)\n",
    "embeddings = np.vstack((embedding_pad, \n",
    "                        embedding_unk, \n",
    "                        embeddings))\n",
    "print('Embeddings Shape: ', embeddings.shape)"
   ]
  },
  {
   "cell_type": "code",
   "execution_count": 7,
   "id": "ad91054b",
   "metadata": {},
   "outputs": [
    {
     "name": "stdout",
     "output_type": "stream",
     "text": [
      "['<pad>' '<unk>' ',' '.' 'the']\n",
      "[[ 0.          0.          0.         ...  0.          0.\n",
      "   0.        ]\n",
      " [ 0.22418656 -0.28881998  0.13854443 ...  0.19310581 -0.07767605\n",
      "  -0.1448164 ]\n",
      " [-0.082752    0.67204    -0.14987    ... -0.1918     -0.37846\n",
      "  -0.06589   ]\n",
      " [ 0.012001    0.20751    -0.12578    ...  0.13871    -0.36049\n",
      "  -0.035     ]\n",
      " [ 0.27204    -0.06203    -0.1884     ...  0.13015    -0.18317\n",
      "   0.1323    ]]\n"
     ]
    }
   ],
   "source": [
    "print(vocab[:5])\n",
    "print(embeddings[:5])"
   ]
  },
  {
   "attachments": {},
   "cell_type": "markdown",
   "id": "9fcab6e2",
   "metadata": {},
   "source": [
    "# Dictionary for words"
   ]
  },
  {
   "cell_type": "code",
   "execution_count": 8,
   "id": "dd82ad73",
   "metadata": {},
   "outputs": [
    {
     "name": "stdout",
     "output_type": "stream",
     "text": [
      "Idx to Tag Dict:  {0: 'I_director', 1: 'B_subject', 2: 'B_mpaa_rating', 3: 'I_char', 4: 'B_movie', 5: 'I_release_year', 6: 'I_country', 7: 'I_person', 8: 'I_movie', 9: 'I_genre', 10: 'I-movie', 11: 'I_subject', 12: 'B_producer', 13: 'I_cast', 14: 'B_country', 15: 'B_location', 16: 'B_director', 17: 'B_char', 18: 'I_mpaa_rating', 19: 'I_producer', 20: 'B_genre', 21: 'O', 22: 'B_release_year', 23: 'B_language', 24: 'B_person', 25: 'I_language', 26: 'B_cast'}\n",
      "Tag Count:  27\n"
     ]
    }
   ],
   "source": [
    "word2idx = { term: idx for idx, term in enumerate(vocab) }\n",
    "word2idx['<pad>'] = 0\n",
    "word2idx['<unk>'] = 1\n",
    "idx2word = { idx: word for word,idx in word2idx.items() }\n",
    "\n",
    "# Dicitionary for tags\n",
    "tag_set = set()\n",
    "tag_count_dict = {}\n",
    "for index, row in df.iterrows():\n",
    "    temp = row['tags'].split()\n",
    "    for item in temp:\n",
    "        tag_set.add(item)\n",
    "        if item not in tag_count_dict:\n",
    "            tag_count_dict[item] = 1\n",
    "        else:\n",
    "            tag_count_dict[item] = tag_count_dict[item] + 1\n",
    "\n",
    "tag2idx = { tag: idx for idx, tag in enumerate(tag_set) }\n",
    "idx2tag = { idx: word for word, idx in tag2idx.items() }\n",
    "print('Idx to Tag Dict: ', idx2tag)\n",
    "\n",
    "TAG_COUNT = len(tag2idx)\n",
    "print('Tag Count: ', TAG_COUNT)"
   ]
  },
  {
   "attachments": {},
   "cell_type": "markdown",
   "id": "0244a8ce",
   "metadata": {},
   "source": [
    "# Representation of Tags in the Dataset"
   ]
  },
  {
   "cell_type": "code",
   "execution_count": 9,
   "id": "f01ad58f",
   "metadata": {},
   "outputs": [
    {
     "data": {
      "image/png": "[encoded data removed]",
      "text/plain": [
       "<Figure size 1000x1000 with 1 Axes>"
      ]
     },
     "metadata": {},
     "output_type": "display_data"
    }
   ],
   "source": [
    "tag_names = list(tag_count_dict.keys())\n",
    "o_tag = tag_names.pop(0)\n",
    "\n",
    "tag_count = list(tag_count_dict.values())\n",
    "o_tag_count = tag_count.pop(0)\n",
    "\n",
    "tag_df = pd.DataFrame({\"iob_tags_count\": tag_count, \"iob_tags\": tag_names})\n",
    "plt.figure(figsize = (10, 10))\n",
    "splot = sns.barplot(x = \"iob_tags_count\", y = \"iob_tags\" , data = tag_df, orient ='h')\n",
    "splot.bar_label(splot.containers[0], color='black')\n",
    "plt.xlabel(\"IOB Tags Count\", size = 10)\n",
    "plt.ylabel(\"IOB Tags\", size = 10)\n",
    "plt.xticks(fontsize = 8)\n",
    "plt.yticks(fontsize = 8)\n",
    "plt.title(\"IOB Tags Count vs IOB Tags \\n (excluding tag %s: %d)\" %(o_tag, o_tag_count))\n",
    "\n",
    "plt.savefig('Images/tag_count.png')"
   ]
  },
  {
   "attachments": {},
   "cell_type": "markdown",
   "id": "ed32b59d",
   "metadata": {},
   "source": [
    "# SlotTagger Class for DataLoader"
   ]
  },
  {
   "cell_type": "code",
   "execution_count": 10,
   "id": "f5e66e1b",
   "metadata": {},
   "outputs": [],
   "source": [
    "class SlotTaggerDataset(Dataset):\n",
    "    \n",
    "    def __init__(self, \n",
    "                 data: pd.DataFrame):\n",
    "        self.data = data\n",
    "        self.texts = self.data['texts']\n",
    "        if 'tags' in self.data.columns:\n",
    "            self.tags = self.data['tags']\n",
    "        \n",
    "    def __len__(self):\n",
    "        return len(self.data)\n",
    "    \n",
    "    def __getitem__(self, \n",
    "                    idx: int):\n",
    "        # Enoding Text\n",
    "        text = self.texts.iloc[idx]\n",
    "        encoded_text = self.encode_text(text)\n",
    "        \n",
    "        # Encoding Tags if they exist\n",
    "        if 'tags' in self.data.columns:\n",
    "            tag = self.tags.iloc[idx]\n",
    "            encoded_tag = self.encode_tag(tag)\n",
    "            return encoded_text, encoded_tag \n",
    "        else:\n",
    "            return encoded_text\n",
    "        \n",
    "    # Tokenize    \n",
    "    def tokenize(self, \n",
    "                 text: str):\n",
    "        return [i.text for i in tokenizer(text)]\n",
    "    \n",
    "    # Encode Text\n",
    "    def encode_text(self, \n",
    "                    text):\n",
    "        text_list = [word for word in self.tokenize(text)]\n",
    "        text_vector = []\n",
    "        for word in text_list:\n",
    "            if word in word2idx:\n",
    "                text_vector.append(word2idx[word])\n",
    "            else:\n",
    "                text_vector.append(1)\n",
    "        return text_vector\n",
    "    \n",
    "    # Enocde Tags\n",
    "    def encode_tag(self, \n",
    "                   tag):\n",
    "        tag_list = [word for word in self.tokenize(tag)]\n",
    "        tag_vector = [tag2idx[word] for word in tag_list]\n",
    "        return tag_vector"
   ]
  },
  {
   "attachments": {},
   "cell_type": "markdown",
   "id": "16ac892b",
   "metadata": {},
   "source": [
    "# Slot Tagger Object for DataLoader"
   ]
  },
  {
   "cell_type": "code",
   "execution_count": 11,
   "id": "1b8d42fa",
   "metadata": {},
   "outputs": [
    {
     "name": "stdout",
     "output_type": "stream",
     "text": [
      "([76, 32, 9, 21273], [21, 21, 21, 4])\n",
      "([452, 21926, 1918, 13505], [21, 12, 19, 19])\n",
      "([177, 35300, 40721, 96, 605], [21, 16, 0, 21, 21])\n",
      "([84, 40, 24358, 1584, 28, 1279], [21, 21, 4, 8, 21, 21])\n"
     ]
    }
   ],
   "source": [
    "train_ds = SlotTaggerDataset(train_data)\n",
    "print(train_ds[0])\n",
    "print(train_ds[1])\n",
    "print(train_ds[2])\n",
    "print(train_ds[11])\n",
    "\n",
    "val_ds = SlotTaggerDataset(val_data)\n",
    "\n",
    "test_ds = SlotTaggerDataset(test_data)"
   ]
  },
  {
   "attachments": {},
   "cell_type": "markdown",
   "id": "4f3a241a",
   "metadata": {},
   "source": [
    "# Custom Collate function"
   ]
  },
  {
   "cell_type": "code",
   "execution_count": 12,
   "id": "d9aae1b5",
   "metadata": {},
   "outputs": [
    {
     "name": "stdout",
     "output_type": "stream",
     "text": [
      "(tensor([[    177,    1022,     742,      13,   30141,    2489,       0,       0,\n",
      "               0,       0,       0,       0,       0,       0,       0],\n",
      "        [    605,     173,       9,   47750,       0,       0,       0,       0,\n",
      "               0,       0,       0,       0,       0,       0,       0],\n",
      "        [     80,      12,       4,    2511,       9,    5333,    3182,   42742,\n",
      "               0,       0,       0,       0,       0,       0,       0],\n",
      "        [    110,     153,       6,     115,      76,    3874,     538,   35187,\n",
      "               0,       0,       0,       0,       0,       0,       0],\n",
      "        [    110,     159,       6,     120,       8,     669,       9,   11020,\n",
      "               0,       0,       0,       0,       0,       0,       0],\n",
      "        [   2511,       7,    4680,    4679,       0,       0,       0,       0,\n",
      "               0,       0,       0,       0,       0,       0,       0],\n",
      "        [    452,      13,    6456,    1437,       0,       0,       0,       0,\n",
      "               0,       0,       0,       0,       0,       0,       0],\n",
      "        [     80,      25,      87,     586,    1437,      21,    5270,      30,\n",
      "               4,     778,    1816,       7,       4,     605,       0],\n",
      "        [   1340,     182,      13,     669,    1785,   90682,       0,       0,\n",
      "               0,       0,       0,       0,       0,       0,       0],\n",
      "        [     76,    1956,    2270,  168927,       0,       0,       0,       0,\n",
      "               0,       0,       0,       0,       0,       0,       0],\n",
      "        [    177,    1437,    3874,      26,  507654, 1046196,       0,       0,\n",
      "               0,       0,       0,       0,       0,       0,       0],\n",
      "        [   1711,      13,    1367,      21,       4,    2506,       0,       0,\n",
      "               0,       0,       0,       0,       0,       0,       0],\n",
      "        [   1437,      31,       4,     142,       0,       0,       0,       0,\n",
      "               0,       0,       0,       0,       0,       0,       0],\n",
      "        [    516,      75,       4,    1197,       7,   67455,      19,       0,\n",
      "               0,       0,       0,       0,       0,       0,       0],\n",
      "        [    177,      45,    4484,  392983,    1437,      21,   53476,   64613,\n",
      "               0,       0,       0,       0,       0,       0,       0],\n",
      "        [     80,    1437,      47,  332460,     364,       0,       0,       0,\n",
      "               0,       0,       0,       0,       0,       0,       0],\n",
      "        [  12258,    3600,    1715,       0,       0,       0,       0,       0,\n",
      "               0,       0,       0,       0,       0,       0,       0],\n",
      "        [    110,     153,       8,     370,       7,   17015,  107109,    1437,\n",
      "               0,       0,       0,       0,       0,       0,       0],\n",
      "        [   1437,      54,    1748,   46806,       0,       0,       0,       0,\n",
      "               0,       0,       0,       0,       0,       0,       0],\n",
      "        [     43,     110,     120,       4,    2511,       5,    3936,      13,\n",
      "             447,      27,       4,     285,       7,       4,    1718],\n",
      "        [    129,   24519,    5289,    1517,      99,      90,    3330,    2804,\n",
      "               0,       0,       0,       0,       0,       0,       0],\n",
      "        [     43,     110,     120,       4,    2511,       5,    3936,      13,\n",
      "               4,     605,       9,   22999,       0,       0,       0],\n",
      "        [    177,    8516,    1197,    1437,       0,       0,       0,       0,\n",
      "               0,       0,       0,       0,       0,       0,       0],\n",
      "        [   1437,      31,   26744,       0,       0,       0,       0,       0,\n",
      "               0,       0,       0,       0,       0,       0,       0],\n",
      "        [     80,      25,       4,    1594,       7,    2804,    1956,      26,\n",
      "           50672,  260074,       0,       0,       0,       0,       0],\n",
      "        [     43,      20,     432,     516,      75,      84,      32,   30141,\n",
      "            2489,    1279,       0,       0,       0,       0,       0],\n",
      "        [     80,    1437,      47,   41434, 1391080,    1956,       0,       0,\n",
      "               0,       0,       0,       0,       0,       0,       0],\n",
      "        [    110,     159,       6,     452,      13,   96703,  190835,    1437,\n",
      "               0,       0,       0,       0,       0,       0,       0],\n",
      "        [    177,       4,     290,       7,       4,    1820,       7,    5553,\n",
      "               0,       0,       0,       0,       0,       0,       0],\n",
      "        [     80,     539,       7,     605,      12,   48380,       0,       0,\n",
      "               0,       0,       0,       0,       0,       0,       0],\n",
      "        [     76,    6078,    2270,  168927,       0,       0,       0,       0,\n",
      "               0,       0,       0,       0,       0,       0,       0],\n",
      "        [    284,      75,       4,    4680,    4679,     605,       0,       0,\n",
      "               0,       0,       0,       0,       0,       0,       0]]), tensor([[21, 21, 21, 21,  4,  8,  0,  0,  0,  0,  0,  0,  0,  0,  0],\n",
      "        [21, 21, 21, 23,  0,  0,  0,  0,  0,  0,  0,  0,  0,  0,  0],\n",
      "        [21, 21, 21, 21, 21,  4,  8,  8,  0,  0,  0,  0,  0,  0,  0],\n",
      "        [21, 21, 21, 21, 21, 21,  4,  8,  0,  0,  0,  0,  0,  0,  0],\n",
      "        [21, 21, 21, 21, 21, 21, 21, 23,  0,  0,  0,  0,  0,  0,  0],\n",
      "        [21, 21,  4,  8,  0,  0,  0,  0,  0,  0,  0,  0,  0,  0,  0],\n",
      "        [21, 21, 20, 21,  0,  0,  0,  0,  0,  0,  0,  0,  0,  0,  0],\n",
      "        [21, 21, 21, 21, 21, 21,  1, 21, 21, 21, 21, 21, 21, 21,  0],\n",
      "        [21, 21, 21, 21,  4,  8,  0,  0,  0,  0,  0,  0,  0,  0,  0],\n",
      "        [21, 21,  4,  8,  0,  0,  0,  0,  0,  0,  0,  0,  0,  0,  0],\n",
      "        [21, 21, 21, 21, 16,  0,  0,  0,  0,  0,  0,  0,  0,  0,  0],\n",
      "        [21, 21,  4,  8,  8,  8,  0,  0,  0,  0,  0,  0,  0,  0,  0],\n",
      "        [21, 21, 21, 14,  0,  0,  0,  0,  0,  0,  0,  0,  0,  0,  0],\n",
      "        [21, 21, 21, 21, 21,  4,  8,  0,  0,  0,  0,  0,  0,  0,  0],\n",
      "        [21, 21, 21,  2, 21, 21, 26, 13,  0,  0,  0,  0,  0,  0,  0],\n",
      "        [21, 21, 21, 12, 21,  0,  0,  0,  0,  0,  0,  0,  0,  0,  0],\n",
      "        [ 4,  8, 21,  0,  0,  0,  0,  0,  0,  0,  0,  0,  0,  0,  0],\n",
      "        [21, 21, 21, 21, 21, 24,  7, 21,  0,  0,  0,  0,  0,  0,  0],\n",
      "        [21, 21,  1, 11,  0,  0,  0,  0,  0,  0,  0,  0,  0,  0,  0],\n",
      "        [21, 21, 21, 21, 21, 21, 21, 21,  4,  8,  8,  8,  8,  8,  8],\n",
      "        [21, 16,  0, 21, 21, 21, 20, 21,  0,  0,  0,  0,  0,  0,  0],\n",
      "        [21, 21, 21, 21, 21, 21, 21, 21, 21, 21,  4,  8,  0,  0,  0],\n",
      "        [21, 23, 25, 21,  0,  0,  0,  0,  0,  0,  0,  0,  0,  0,  0],\n",
      "        [21, 21, 14,  0,  0,  0,  0,  0,  0,  0,  0,  0,  0,  0,  0],\n",
      "        [21, 21, 21, 21, 21, 21, 21, 21, 12, 19,  0,  0,  0,  0,  0],\n",
      "        [21, 21, 21, 21, 21, 21, 21,  4,  8, 21,  0,  0,  0,  0,  0],\n",
      "        [21, 21, 21, 12, 19, 21,  0,  0,  0,  0,  0,  0,  0,  0,  0],\n",
      "        [21, 21, 21, 21, 21, 16,  0, 21,  0,  0,  0,  0,  0,  0,  0],\n",
      "        [21, 21, 21, 21, 21, 21, 21,  4,  0,  0,  0,  0,  0,  0,  0],\n",
      "        [21, 21, 21, 21, 21,  4,  0,  0,  0,  0,  0,  0,  0,  0,  0],\n",
      "        [21, 21,  4,  8,  0,  0,  0,  0,  0,  0,  0,  0,  0,  0,  0],\n",
      "        [21, 21, 21,  4,  8, 21,  0,  0,  0,  0,  0,  0,  0,  0,  0]]), tensor([ 6,  4,  8,  8,  8,  4,  4, 14,  6,  4,  6,  6,  4,  7,  8,  5,  3,  8,\n",
      "         4, 15,  8, 12,  4,  3, 10, 10,  6,  8,  8,  6,  4,  6]))\n",
      "(tensor([[ 28487,  77567,   1437,      0,      0,      0,      0,      0,      0,\n",
      "              0,      0,      0],\n",
      "        [    69,   1437,     89,    173,      9,  16055,      0,      0,      0,\n",
      "              0,      0,      0],\n",
      "        [   163,     32,      4,    605,   4884,   1956,      0,      0,      0,\n",
      "              0,      0,      0],\n",
      "        [   284,     75,    182,     19, 377314,  38485,      0,      0,      0,\n",
      "              0,      0,      0],\n",
      "        [    84,     32,   1093,     63,   1279,      0,      0,      0,      0,\n",
      "              0,      0,      0],\n",
      "        [   106,    140,   3642,    129,      4,    605,  15684,   4227,      0,\n",
      "              0,      0,      0],\n",
      "        [   284,     75,   1437,   1956,     26,  79990,  25830,      0,      0,\n",
      "              0,      0,      0],\n",
      "        [    80,   1437,     33,  41418,  78382,   1956,      0,      0,      0,\n",
      "              0,      0,      0],\n",
      "        [    43,     20,    516,     75,      4,   1820,      7,      4,  55600,\n",
      "              0,      0,      0],\n",
      "        [   110,    159,      6,    120,   1437,    173,      9,  10959,      0,\n",
      "              0,      0,      0],\n",
      "        [   110,    159,      6,    216,     63,  14108,   1437,      0,      0,\n",
      "              0,      0,      0],\n",
      "        [    84,     12,  24693,   5302,  13662,      0,      0,      0,      0,\n",
      "              0,      0,      0],\n",
      "        [ 16523,      0,      0,      0,      0,      0,      0,      0,      0,\n",
      "              0,      0,      0],\n",
      "        [   177,     58,     80,    524,      7,    605,  16183,     12,      0,\n",
      "              0,      0,      0],\n",
      "        [   177,      4,   5670,      7,      4,  55015,      0,      0,      0,\n",
      "              0,      0,      0],\n",
      "        [    69,   1437,     47,  66197,  47219,     86,      9,      0,      0,\n",
      "              0,      0,      0],\n",
      "        [   284,     75,  20695,   1437,      0,      0,      0,      0,      0,\n",
      "              0,      0,      0],\n",
      "        [   121,    110,     33,      4,    742,      7,   1022,     13,     29,\n",
      "            605,      0,      0],\n",
      "        [    76,     12,      4,   5670,      7,  16183,      0,      0,      0,\n",
      "              0,      0,      0],\n",
      "        [   177,   1437,     21,      8,  20612,    471,    104,      0,      0,\n",
      "              0,      0,      0],\n",
      "        [    84,     32,      4,    108,  10807,    509,   1314,      0,      0,\n",
      "              0,      0,      0],\n",
      "        [   284,     75,   1437,      9,  16373,      0,      0,      0,      0,\n",
      "              0,      0,      0],\n",
      "        [   284,     76,   1956,    538,  35187,      0,      0,      0,      0,\n",
      "              0,      0,      0],\n",
      "        [   370,     45,   1437,   4484, 392983,      0,      0,      0,      0,\n",
      "              0,      0,      0],\n",
      "        [   216,     13,      4,   1820,      7,  29056,  88783,      0,      0,\n",
      "              0,      0,      0],\n",
      "        [    40, 181654,     86,      9,      0,      0,      0,      0,      0,\n",
      "              0,      0,      0],\n",
      "        [    80,   1437,     47, 165326,  86230,     86,      9,      0,      0,\n",
      "              0,      0,      0],\n",
      "        [    76,   3874,   1785,  90682,      0,      0,      0,      0,      0,\n",
      "              0,      0,      0],\n",
      "        [    76,   3874,      4,    605,      4,   1642,  19485,      0,      0,\n",
      "              0,      0,      0],\n",
      "        [    76,   1803,     19,      4,    447,     27,      4,    285,      7,\n",
      "              4,   1718,      0],\n",
      "        [   432,    516,     75,     70,     20,     33,     99,   1437,     31,\n",
      "              4,   7533,   1492],\n",
      "        [    76,  19143,      9,   7972,  10959,      0,      0,      0,      0,\n",
      "              0,      0,      0]]), tensor([[16,  0, 21,  0,  0,  0,  0,  0,  0,  0,  0,  0],\n",
      "        [21, 21, 21, 21, 21, 14,  0,  0,  0,  0,  0,  0],\n",
      "        [21, 21, 21, 21,  4, 21,  0,  0,  0,  0,  0,  0],\n",
      "        [21, 21, 21, 21, 24,  7,  0,  0,  0,  0,  0,  0],\n",
      "        [21, 21,  4,  8, 21,  0,  0,  0,  0,  0,  0,  0],\n",
      "        [21, 21, 21, 21, 21, 21,  4, 21,  0,  0,  0,  0],\n",
      "        [21, 21, 21, 21, 21, 12, 19,  0,  0,  0,  0,  0],\n",
      "        [21, 21, 21, 12, 19, 21,  0,  0,  0,  0,  0,  0],\n",
      "        [21, 21, 21, 21, 21, 21, 21, 21,  4,  0,  0,  0],\n",
      "        [21, 21, 21, 21, 21, 21, 21, 14,  0,  0,  0,  0],\n",
      "        [21, 21, 21, 21, 21, 23, 21,  0,  0,  0,  0,  0],\n",
      "        [21, 21,  4, 21, 21,  0,  0,  0,  0,  0,  0,  0],\n",
      "        [ 1,  0,  0,  0,  0,  0,  0,  0,  0,  0,  0,  0],\n",
      "        [21, 21, 21, 21, 21, 21,  4, 21,  0,  0,  0,  0],\n",
      "        [21, 21, 21, 21,  4,  8,  0,  0,  0,  0,  0,  0],\n",
      "        [21, 21, 21, 26, 13, 21, 21,  0,  0,  0,  0,  0],\n",
      "        [21, 21,  2, 21,  0,  0,  0,  0,  0,  0,  0,  0],\n",
      "        [21, 21, 21, 21, 21, 21, 21, 21, 21, 21,  0,  0],\n",
      "        [21, 21, 21, 21, 21,  4,  0,  0,  0,  0,  0,  0],\n",
      "        [21, 21, 21, 21,  2, 18, 21,  0,  0,  0,  0,  0],\n",
      "        [21, 21,  4, 21,  8,  8, 21,  0,  0,  0,  0,  0],\n",
      "        [21, 21, 21, 21, 23,  0,  0,  0,  0,  0,  0,  0],\n",
      "        [21, 21, 21,  4,  8,  0,  0,  0,  0,  0,  0,  0],\n",
      "        [21, 21, 21, 21,  2,  0,  0,  0,  0,  0,  0,  0],\n",
      "        [21, 21, 21, 21, 21,  4,  8,  0,  0,  0,  0,  0],\n",
      "        [26, 13, 21, 21,  0,  0,  0,  0,  0,  0,  0,  0],\n",
      "        [21, 21, 21, 26, 13, 21, 21,  0,  0,  0,  0,  0],\n",
      "        [21, 21,  4,  8,  0,  0,  0,  0,  0,  0,  0,  0],\n",
      "        [21, 21, 21, 21,  4,  8,  8,  0,  0,  0,  0,  0],\n",
      "        [21, 21, 21, 21,  4,  8,  8,  8,  8,  8,  8,  0],\n",
      "        [21, 21, 21, 21, 21, 21, 21, 21, 21, 21, 14,  6],\n",
      "        [21, 21, 21,  4,  8,  0,  0,  0,  0,  0,  0,  0]]), tensor([ 3,  6,  6,  6,  5,  8,  7,  6,  9,  8,  7,  5,  1,  8,  6,  7,  4, 10,\n",
      "         6,  7,  7,  5,  5,  5,  7,  4,  7,  4,  7, 11, 12,  5]))\n"
     ]
    }
   ],
   "source": [
    "def custom_collate_fn(batch):\n",
    "    if isinstance(batch[0], list):\n",
    "        texts_tensor = [torch.tensor(text) for text in batch]\n",
    "\n",
    "        lengths = [len(text) for text in batch]\n",
    "        lengths = torch.tensor(lengths)\n",
    "\n",
    "        texts_padded = pad_sequence(texts_tensor, batch_first = True, padding_value = 0)\n",
    "\n",
    "        return texts_padded, lengths\n",
    "\n",
    "    else:\n",
    "        texts, tags = zip(*batch)\n",
    "\n",
    "        texts_tensor = [torch.tensor(text) for text in texts]\n",
    "        tags_tensor = [torch.tensor(tag) for tag in tags]\n",
    "\n",
    "        lengths = [len(text) for text in texts]\n",
    "        lengths = torch.tensor(lengths)\n",
    "\n",
    "        texts_padded = pad_sequence(texts_tensor, batch_first = True, padding_value = 0)\n",
    "        tags_padded = pad_sequence(tags_tensor, batch_first = True, padding_value = 0)\n",
    "\n",
    "        return texts_padded, tags_padded, lengths\n",
    "\n",
    "BATCH_SIZE = 32\n",
    "\n",
    "# PyTorch Data Loaders\n",
    "train_loader = DataLoader(train_ds, \n",
    "                          batch_size = BATCH_SIZE, \n",
    "                          shuffle = True, \n",
    "                          collate_fn = custom_collate_fn)\n",
    "val_loader = DataLoader(val_ds, \n",
    "                        batch_size = BATCH_SIZE, \n",
    "                        shuffle = True, \n",
    "                        collate_fn = custom_collate_fn)\n",
    "\n",
    "test_loader = DataLoader(test_ds, \n",
    "                        batch_size = 1, \n",
    "                        shuffle = False, \n",
    "                        collate_fn = custom_collate_fn)\n",
    "\n",
    "it = iter(train_loader)\n",
    "first = next(it)\n",
    "second = next(it)\n",
    "print(first)\n",
    "print(second)\n",
    "\n",
    "assert train_data.shape[0] == len(train_loader.dataset)\n",
    "assert val_data.shape[0] == len(val_loader.dataset)\n",
    "assert test_data.shape[0] == len(test_loader.dataset)"
   ]
  },
  {
   "attachments": {},
   "cell_type": "markdown",
   "id": "24109b07",
   "metadata": {},
   "source": [
    "# Bi-LSTM Model"
   ]
  },
  {
   "cell_type": "code",
   "execution_count": 13,
   "id": "8bf6dfb9",
   "metadata": {},
   "outputs": [],
   "source": [
    "class LSTM(nn.Module):\n",
    "    \n",
    "    def __init__(self, \n",
    "                 embedding_dim, \n",
    "                 hidden_dim, \n",
    "                 output_dim, \n",
    "                 n_layers, \n",
    "                 bidirectional, \n",
    "                 dropout):\n",
    "        super().__init__()\n",
    "        # Initialize Embedding Layer with Pre-Trained Embeddings (Vector Sequences)\n",
    "        self.embedding = nn.Embedding.from_pretrained(torch.from_numpy(embeddings).float())\n",
    "        # Initialzie LSTM layer to process the vector sequences \n",
    "        self.lstm = nn.LSTM(embedding_dim, \n",
    "                            hidden_dim,\n",
    "                            num_layers = n_layers,\n",
    "                            bidirectional = bidirectional,\n",
    "                            dropout = dropout,\n",
    "                            batch_first = True)\n",
    "        num_directions = 2 if bidirectional else 1\n",
    "        # Initialize Dense layers to predict\n",
    "        self.fc1 = nn.Linear(hidden_dim * num_directions, hidden_dim)\n",
    "        self.fc2 = nn.Linear(hidden_dim, output_dim)\n",
    "        # Initialize dropout to improve with regularization\n",
    "        self.dropout = nn.Dropout(dropout)\n",
    "        \n",
    "    def forward(self, \n",
    "                x, \n",
    "                x_lengths):\n",
    "        # Embedding Layer\n",
    "        embedded = self.embedding(x)\n",
    "        # Dropout Layer before LSTM Layer\n",
    "        embedded = self.dropout(embedded)\n",
    "        # Packed Sequence\n",
    "        packed_embedded = nn.utils.rnn.pack_padded_sequence(embedded, \n",
    "                                                            x_lengths, \n",
    "                                                            batch_first = True, \n",
    "                                                            enforce_sorted = False)\n",
    "        # LSTM Layer\n",
    "        packed_output, (hidden, cell) = self.lstm(packed_embedded)\n",
    "        # Unpack sequence\n",
    "        output, output_lengths = nn.utils.rnn.pad_packed_sequence(packed_output, \n",
    "                                                                  batch_first = True)\n",
    "        # 1st Fully Connected Layer\n",
    "        output = self.fc1(output)\n",
    "        # Dropout Layer before Output\n",
    "        output = self.dropout(output)\n",
    "        # 2nd Fully Connected Layer\n",
    "        output = self.fc2(output)\n",
    "        return output"
   ]
  },
  {
   "attachments": {},
   "cell_type": "markdown",
   "id": "8a0e9cb1",
   "metadata": {},
   "source": [
    "# Model Hyper-parameters"
   ]
  },
  {
   "cell_type": "code",
   "execution_count": 14,
   "id": "b4cf2157",
   "metadata": {},
   "outputs": [
    {
     "name": "stdout",
     "output_type": "stream",
     "text": [
      "LSTM Model:  LSTM(\n",
      "  (embedding): Embedding(2196011, 300)\n",
      "  (lstm): LSTM(300, 20, num_layers=2, batch_first=True, dropout=0.2, bidirectional=True)\n",
      "  (fc1): Linear(in_features=40, out_features=20, bias=True)\n",
      "  (fc2): Linear(in_features=20, out_features=27, bias=True)\n",
      "  (dropout): Dropout(p=0.2, inplace=False)\n",
      ")\n"
     ]
    }
   ],
   "source": [
    "torch.manual_seed(32)\n",
    "\n",
    "EMBEDDING_DIM = embeddings.shape[1]\n",
    "HIDDEN_DIM = 20\n",
    "OUTPUT_DIM = TAG_COUNT\n",
    "NUM_LAYERS = 2\n",
    "BIDIRECTION = True\n",
    "DROPOUT = 0.2\n",
    "\n",
    "model = LSTM(EMBEDDING_DIM, \n",
    "            HIDDEN_DIM, \n",
    "            OUTPUT_DIM, \n",
    "            NUM_LAYERS, \n",
    "            BIDIRECTION, \n",
    "            DROPOUT).to(device)\n",
    "\n",
    "print('LSTM Model: ', model)"
   ]
  },
  {
   "cell_type": "code",
   "execution_count": 15,
   "id": "cf60ffef",
   "metadata": {},
   "outputs": [],
   "source": [
    "def squeezed_list(my_list):\n",
    "    temp_list = [int(element) for element in my_list]\n",
    "    return temp_list  \n",
    "\n",
    "def slice_list(my_list, slice_increment):\n",
    "    return [my_list[i : i + slice_increment] for i in range(0, len(my_list), slice_increment)]\n",
    "\n",
    "def convert_idx_to_tags(lol, isTensor):\n",
    "    iob_list = []\n",
    "    for list_element in lol:\n",
    "        if (isTensor):\n",
    "            list_element = list_element.numpy() \n",
    "        iob = [idx2tag[index] for index in list_element]\n",
    "        iob_list.append(iob)\n",
    "    return iob_list"
   ]
  },
  {
   "attachments": {},
   "cell_type": "markdown",
   "id": "a3e34533",
   "metadata": {},
   "source": [
    "# Model Train & Evaluate Functions"
   ]
  },
  {
   "cell_type": "code",
   "execution_count": 16,
   "id": "fade282e",
   "metadata": {},
   "outputs": [],
   "source": [
    "# Model Train Function\n",
    "def train(loader, \n",
    "          model, \n",
    "          optimizer, \n",
    "          loss_fn):\n",
    "    model.train()\n",
    "    losses = []\n",
    "    pbar = tqdm(loader)\n",
    "    for x, y, lengths in pbar:\n",
    "        optimizer.zero_grad()\n",
    "        \n",
    "        # Calculate y_pred\n",
    "        y_pred = model(x, lengths)\n",
    "        \n",
    "        # Convert y_pred to 2D Tensor\n",
    "        y_pred = y_pred.view(-1, y_pred.shape[-1])\n",
    "        # Convert y_pred to 1D Tensor\n",
    "        y = torch.flatten(y)\n",
    "        \n",
    "        loss = loss_fn(y_pred, y)\n",
    "        pbar.set_postfix({'Loss': loss.item()})\n",
    "        losses.append(loss.item())\n",
    "        \n",
    "        # Calculate gradients for w/b\n",
    "        loss.backward()  \n",
    "        # Update weights according to optimizer rules\n",
    "        optimizer.step()          \n",
    "    return round((sum(losses) / len(losses)), 4)\n",
    "\n",
    "# Model Evaluate Function\n",
    "def evaluate(loader, \n",
    "             model, \n",
    "             loss_fn, \n",
    "             score_fn):\n",
    "    model.eval()\n",
    "    losses = []\n",
    "    for x, y, lengths in tqdm(loader):\n",
    "        y_pred = model(x, lengths)\n",
    "        \n",
    "        max_len = x.shape[1]\n",
    "              \n",
    "        # Convert y_pred to 2D Tensor\n",
    "        y_pred = y_pred.view(-1, y_pred.shape[-1])\n",
    "        # Convert y_pred to 1D Tensor\n",
    "        y = torch.flatten(y)\n",
    "        \n",
    "        loss = loss_fn(y_pred, y)\n",
    "        losses.append(loss.item())\n",
    "        \n",
    "        tags_iob = convert_idx_to_tags(slice_list(y, max_len), True)\n",
    "\n",
    "        max_preds = y_pred.argmax(dim = 1, keepdim = True) # Get the index of the max probability\n",
    "        \n",
    "        predictions_iob = convert_idx_to_tags(slice_list((squeezed_list(max_preds)), max_len), False)\n",
    "    \n",
    "    score = score_fn(tags_iob, predictions_iob, scheme = IOB2)\n",
    "    return tags_iob, predictions_iob, round((sum(losses) / len(losses)), 4), round(score, 4)"
   ]
  },
  {
   "attachments": {},
   "cell_type": "markdown",
   "id": "8b51d64d",
   "metadata": {},
   "source": [
    "# Model Training on Train dataset and Evaluation on Validation dataset"
   ]
  },
  {
   "cell_type": "code",
   "execution_count": 17,
   "id": "bc19c22f",
   "metadata": {},
   "outputs": [
    {
     "name": "stderr",
     "output_type": "stream",
     "text": [
      "100%|███████████████████████████████| 53/53 [00:00<00:00, 83.47it/s, Loss=0.423]\n"
     ]
    },
    {
     "name": "stdout",
     "output_type": "stream",
     "text": [
      "Train Loss:  1.2709\n"
     ]
    },
    {
     "name": "stderr",
     "output_type": "stream",
     "text": [
      "100%|██████████████████████████████████████████| 18/18 [00:00<00:00, 219.54it/s]\n",
      "/Users/kushagraseth/Documents/pvenv/lib/python3.10/site-packages/seqeval/metrics/sequence_labeling.py:171: UserWarning: B_movie seems not to be NE tag.\n",
      "  warnings.warn('{} seems not to be NE tag.'.format(chunk))\n",
      "/Users/kushagraseth/Documents/pvenv/lib/python3.10/site-packages/seqeval/metrics/sequence_labeling.py:171: UserWarning: I_movie seems not to be NE tag.\n",
      "  warnings.warn('{} seems not to be NE tag.'.format(chunk))\n",
      "/Users/kushagraseth/Documents/pvenv/lib/python3.10/site-packages/seqeval/metrics/sequence_labeling.py:171: UserWarning: I_director seems not to be NE tag.\n",
      "  warnings.warn('{} seems not to be NE tag.'.format(chunk))\n",
      "/Users/kushagraseth/Documents/pvenv/lib/python3.10/site-packages/seqeval/metrics/sequence_labeling.py:171: UserWarning: B_producer seems not to be NE tag.\n",
      "  warnings.warn('{} seems not to be NE tag.'.format(chunk))\n",
      "/Users/kushagraseth/Documents/pvenv/lib/python3.10/site-packages/seqeval/metrics/sequence_labeling.py:171: UserWarning: I_producer seems not to be NE tag.\n",
      "  warnings.warn('{} seems not to be NE tag.'.format(chunk))\n",
      "/Users/kushagraseth/Documents/pvenv/lib/python3.10/site-packages/seqeval/metrics/sequence_labeling.py:171: UserWarning: B_country seems not to be NE tag.\n",
      "  warnings.warn('{} seems not to be NE tag.'.format(chunk))\n",
      "/Users/kushagraseth/Documents/pvenv/lib/python3.10/site-packages/seqeval/metrics/sequence_labeling.py:171: UserWarning: B_genre seems not to be NE tag.\n",
      "  warnings.warn('{} seems not to be NE tag.'.format(chunk))\n",
      "/Users/kushagraseth/Documents/pvenv/lib/python3.10/site-packages/seqeval/metrics/sequence_labeling.py:171: UserWarning: B_subject seems not to be NE tag.\n",
      "  warnings.warn('{} seems not to be NE tag.'.format(chunk))\n",
      "/Users/kushagraseth/Documents/pvenv/lib/python3.10/site-packages/seqeval/metrics/sequence_labeling.py:171: UserWarning: B_director seems not to be NE tag.\n",
      "  warnings.warn('{} seems not to be NE tag.'.format(chunk))\n",
      "/Users/kushagraseth/Documents/pvenv/lib/python3.10/site-packages/seqeval/metrics/sequence_labeling.py:171: UserWarning: B_language seems not to be NE tag.\n",
      "  warnings.warn('{} seems not to be NE tag.'.format(chunk))\n"
     ]
    },
    {
     "name": "stdout",
     "output_type": "stream",
     "text": [
      "Val Accuracy:  0.5714\n",
      "Val Loss:  0.3958\n"
     ]
    },
    {
     "name": "stderr",
     "output_type": "stream",
     "text": [
      "100%|██████████████████████████████| 53/53 [00:00<00:00, 103.91it/s, Loss=0.172]\n"
     ]
    },
    {
     "name": "stdout",
     "output_type": "stream",
     "text": [
      "Train Loss:  0.3286\n"
     ]
    },
    {
     "name": "stderr",
     "output_type": "stream",
     "text": [
      "100%|██████████████████████████████████████████| 18/18 [00:00<00:00, 209.74it/s]\n",
      "/Users/kushagraseth/Documents/pvenv/lib/python3.10/site-packages/seqeval/metrics/sequence_labeling.py:171: UserWarning: B_person seems not to be NE tag.\n",
      "  warnings.warn('{} seems not to be NE tag.'.format(chunk))\n",
      "/Users/kushagraseth/Documents/pvenv/lib/python3.10/site-packages/seqeval/metrics/sequence_labeling.py:171: UserWarning: I_person seems not to be NE tag.\n",
      "  warnings.warn('{} seems not to be NE tag.'.format(chunk))\n",
      "/Users/kushagraseth/Documents/pvenv/lib/python3.10/site-packages/seqeval/metrics/sequence_labeling.py:171: UserWarning: I_subject seems not to be NE tag.\n",
      "  warnings.warn('{} seems not to be NE tag.'.format(chunk))\n",
      "/Users/kushagraseth/Documents/pvenv/lib/python3.10/site-packages/seqeval/metrics/sequence_labeling.py:171: UserWarning: B_char seems not to be NE tag.\n",
      "  warnings.warn('{} seems not to be NE tag.'.format(chunk))\n"
     ]
    },
    {
     "name": "stdout",
     "output_type": "stream",
     "text": [
      "Val Accuracy:  0.575\n",
      "Val Loss:  0.2679\n"
     ]
    },
    {
     "name": "stderr",
     "output_type": "stream",
     "text": [
      "100%|████████████████████████████████| 53/53 [00:00<00:00, 109.02it/s, Loss=0.2]\n"
     ]
    },
    {
     "name": "stdout",
     "output_type": "stream",
     "text": [
      "Train Loss:  0.2299\n"
     ]
    },
    {
     "name": "stderr",
     "output_type": "stream",
     "text": [
      "100%|██████████████████████████████████████████| 18/18 [00:00<00:00, 265.13it/s]\n",
      "/Users/kushagraseth/Documents/pvenv/lib/python3.10/site-packages/seqeval/metrics/sequence_labeling.py:171: UserWarning: B_mpaa_rating seems not to be NE tag.\n",
      "  warnings.warn('{} seems not to be NE tag.'.format(chunk))\n"
     ]
    },
    {
     "name": "stdout",
     "output_type": "stream",
     "text": [
      "Val Accuracy:  0.7568\n",
      "Val Loss:  0.1921\n"
     ]
    },
    {
     "name": "stderr",
     "output_type": "stream",
     "text": [
      "100%|██████████████████████████████| 53/53 [00:00<00:00, 105.17it/s, Loss=0.102]\n"
     ]
    },
    {
     "name": "stdout",
     "output_type": "stream",
     "text": [
      "Train Loss:  0.1632\n"
     ]
    },
    {
     "name": "stderr",
     "output_type": "stream",
     "text": [
      "100%|██████████████████████████████████████████| 18/18 [00:00<00:00, 257.49it/s]\n",
      "/Users/kushagraseth/Documents/pvenv/lib/python3.10/site-packages/seqeval/metrics/sequence_labeling.py:171: UserWarning: B_cast seems not to be NE tag.\n",
      "  warnings.warn('{} seems not to be NE tag.'.format(chunk))\n",
      "/Users/kushagraseth/Documents/pvenv/lib/python3.10/site-packages/seqeval/metrics/sequence_labeling.py:171: UserWarning: I_cast seems not to be NE tag.\n",
      "  warnings.warn('{} seems not to be NE tag.'.format(chunk))\n"
     ]
    },
    {
     "name": "stdout",
     "output_type": "stream",
     "text": [
      "Val Accuracy:  0.7529\n",
      "Val Loss:  0.1721\n"
     ]
    },
    {
     "name": "stderr",
     "output_type": "stream",
     "text": [
      "100%|██████████████████████████████| 53/53 [00:00<00:00, 104.21it/s, Loss=0.135]\n"
     ]
    },
    {
     "name": "stdout",
     "output_type": "stream",
     "text": [
      "Train Loss:  0.1335\n"
     ]
    },
    {
     "name": "stderr",
     "output_type": "stream",
     "text": [
      "100%|██████████████████████████████████████████| 18/18 [00:00<00:00, 252.01it/s]\n"
     ]
    },
    {
     "name": "stdout",
     "output_type": "stream",
     "text": [
      "Val Accuracy:  0.9114\n",
      "Val Loss:  0.148\n"
     ]
    },
    {
     "name": "stderr",
     "output_type": "stream",
     "text": [
      "100%|███████████████████████████████| 53/53 [00:00<00:00, 97.15it/s, Loss=0.103]\n"
     ]
    },
    {
     "name": "stdout",
     "output_type": "stream",
     "text": [
      "Train Loss:  0.1133\n"
     ]
    },
    {
     "name": "stderr",
     "output_type": "stream",
     "text": [
      "100%|██████████████████████████████████████████| 18/18 [00:00<00:00, 242.18it/s]\n",
      "/Users/kushagraseth/Documents/pvenv/lib/python3.10/site-packages/seqeval/metrics/sequence_labeling.py:171: UserWarning: I_char seems not to be NE tag.\n",
      "  warnings.warn('{} seems not to be NE tag.'.format(chunk))\n"
     ]
    },
    {
     "name": "stdout",
     "output_type": "stream",
     "text": [
      "Val Accuracy:  0.7619\n",
      "Val Loss:  0.1329\n"
     ]
    },
    {
     "name": "stderr",
     "output_type": "stream",
     "text": [
      "100%|█████████████████████████████| 53/53 [00:00<00:00, 108.68it/s, Loss=0.0425]\n"
     ]
    },
    {
     "name": "stdout",
     "output_type": "stream",
     "text": [
      "Train Loss:  0.0887\n"
     ]
    },
    {
     "name": "stderr",
     "output_type": "stream",
     "text": [
      "100%|██████████████████████████████████████████| 18/18 [00:00<00:00, 256.97it/s]\n"
     ]
    },
    {
     "name": "stdout",
     "output_type": "stream",
     "text": [
      "Val Accuracy:  0.825\n",
      "Val Loss:  0.1246\n"
     ]
    },
    {
     "name": "stderr",
     "output_type": "stream",
     "text": [
      "100%|█████████████████████████████| 53/53 [00:00<00:00, 109.54it/s, Loss=0.0613]\n"
     ]
    },
    {
     "name": "stdout",
     "output_type": "stream",
     "text": [
      "Train Loss:  0.0705\n"
     ]
    },
    {
     "name": "stderr",
     "output_type": "stream",
     "text": [
      "100%|██████████████████████████████████████████| 18/18 [00:00<00:00, 261.29it/s]\n",
      "/Users/kushagraseth/Documents/pvenv/lib/python3.10/site-packages/seqeval/metrics/sequence_labeling.py:171: UserWarning: I_country seems not to be NE tag.\n",
      "  warnings.warn('{} seems not to be NE tag.'.format(chunk))\n"
     ]
    },
    {
     "name": "stdout",
     "output_type": "stream",
     "text": [
      "Val Accuracy:  0.7436\n",
      "Val Loss:  0.1109\n"
     ]
    },
    {
     "name": "stderr",
     "output_type": "stream",
     "text": [
      "100%|██████████████████████████████| 53/53 [00:00<00:00, 110.99it/s, Loss=0.125]\n"
     ]
    },
    {
     "name": "stdout",
     "output_type": "stream",
     "text": [
      "Train Loss:  0.0681\n"
     ]
    },
    {
     "name": "stderr",
     "output_type": "stream",
     "text": [
      "100%|██████████████████████████████████████████| 18/18 [00:00<00:00, 254.74it/s]\n"
     ]
    },
    {
     "name": "stdout",
     "output_type": "stream",
     "text": [
      "Val Accuracy:  0.9211\n",
      "Val Loss:  0.121\n"
     ]
    },
    {
     "name": "stderr",
     "output_type": "stream",
     "text": [
      "100%|█████████████████████████████| 53/53 [00:00<00:00, 102.29it/s, Loss=0.0497]\n"
     ]
    },
    {
     "name": "stdout",
     "output_type": "stream",
     "text": [
      "Train Loss:  0.06\n"
     ]
    },
    {
     "name": "stderr",
     "output_type": "stream",
     "text": [
      "100%|██████████████████████████████████████████| 18/18 [00:00<00:00, 259.96it/s]\n"
     ]
    },
    {
     "name": "stdout",
     "output_type": "stream",
     "text": [
      "Val Accuracy:  0.9867\n",
      "Val Loss:  0.1154\n"
     ]
    },
    {
     "name": "stderr",
     "output_type": "stream",
     "text": [
      "100%|█████████████████████████████| 53/53 [00:00<00:00, 105.78it/s, Loss=0.0429]\n"
     ]
    },
    {
     "name": "stdout",
     "output_type": "stream",
     "text": [
      "Train Loss:  0.055\n"
     ]
    },
    {
     "name": "stderr",
     "output_type": "stream",
     "text": [
      "100%|██████████████████████████████████████████| 18/18 [00:00<00:00, 258.78it/s]\n",
      "/Users/kushagraseth/Documents/pvenv/lib/python3.10/site-packages/seqeval/metrics/sequence_labeling.py:171: UserWarning: I_language seems not to be NE tag.\n",
      "  warnings.warn('{} seems not to be NE tag.'.format(chunk))\n"
     ]
    },
    {
     "name": "stdout",
     "output_type": "stream",
     "text": [
      "Val Accuracy:  0.9873\n",
      "Val Loss:  0.1289\n"
     ]
    },
    {
     "name": "stderr",
     "output_type": "stream",
     "text": [
      "100%|█████████████████████████████| 53/53 [00:00<00:00, 105.77it/s, Loss=0.0569]\n"
     ]
    },
    {
     "name": "stdout",
     "output_type": "stream",
     "text": [
      "Train Loss:  0.0454\n"
     ]
    },
    {
     "name": "stderr",
     "output_type": "stream",
     "text": [
      "100%|██████████████████████████████████████████| 18/18 [00:00<00:00, 257.78it/s]\n"
     ]
    },
    {
     "name": "stdout",
     "output_type": "stream",
     "text": [
      "Val Accuracy:  0.8947\n",
      "Val Loss:  0.1314\n"
     ]
    },
    {
     "name": "stderr",
     "output_type": "stream",
     "text": [
      "100%|█████████████████████████████| 53/53 [00:00<00:00, 105.09it/s, Loss=0.0178]\n"
     ]
    },
    {
     "name": "stdout",
     "output_type": "stream",
     "text": [
      "Train Loss:  0.0407\n"
     ]
    },
    {
     "name": "stderr",
     "output_type": "stream",
     "text": [
      "100%|██████████████████████████████████████████| 18/18 [00:00<00:00, 251.97it/s]\n"
     ]
    },
    {
     "name": "stdout",
     "output_type": "stream",
     "text": [
      "Val Accuracy:  0.9744\n",
      "Val Loss:  0.1224\n"
     ]
    },
    {
     "name": "stderr",
     "output_type": "stream",
     "text": [
      "100%|██████████████████████████████| 53/53 [00:00<00:00, 102.97it/s, Loss=0.077]\n"
     ]
    },
    {
     "name": "stdout",
     "output_type": "stream",
     "text": [
      "Train Loss:  0.0404\n"
     ]
    },
    {
     "name": "stderr",
     "output_type": "stream",
     "text": [
      "100%|██████████████████████████████████████████| 18/18 [00:00<00:00, 253.90it/s]\n"
     ]
    },
    {
     "name": "stdout",
     "output_type": "stream",
     "text": [
      "Val Accuracy:  0.9211\n",
      "Val Loss:  0.1173\n"
     ]
    },
    {
     "name": "stderr",
     "output_type": "stream",
     "text": [
      "100%|█████████████████████████████| 53/53 [00:00<00:00, 105.25it/s, Loss=0.0374]\n"
     ]
    },
    {
     "name": "stdout",
     "output_type": "stream",
     "text": [
      "Train Loss:  0.0376\n"
     ]
    },
    {
     "name": "stderr",
     "output_type": "stream",
     "text": [
      "100%|██████████████████████████████████████████| 18/18 [00:00<00:00, 237.90it/s]\n"
     ]
    },
    {
     "name": "stdout",
     "output_type": "stream",
     "text": [
      "Val Accuracy:  0.9459\n",
      "Val Loss:  0.1033\n"
     ]
    },
    {
     "name": "stderr",
     "output_type": "stream",
     "text": [
      "100%|██████████████████████████████| 53/53 [00:00<00:00, 104.62it/s, Loss=0.072]\n"
     ]
    },
    {
     "name": "stdout",
     "output_type": "stream",
     "text": [
      "Train Loss:  0.0369\n"
     ]
    },
    {
     "name": "stderr",
     "output_type": "stream",
     "text": [
      "100%|██████████████████████████████████████████| 18/18 [00:00<00:00, 244.76it/s]\n"
     ]
    },
    {
     "name": "stdout",
     "output_type": "stream",
     "text": [
      "Val Accuracy:  0.9333\n",
      "Val Loss:  0.119\n"
     ]
    },
    {
     "name": "stderr",
     "output_type": "stream",
     "text": [
      "100%|█████████████████████████████| 53/53 [00:00<00:00, 105.62it/s, Loss=0.0234]\n"
     ]
    },
    {
     "name": "stdout",
     "output_type": "stream",
     "text": [
      "Train Loss:  0.0297\n"
     ]
    },
    {
     "name": "stderr",
     "output_type": "stream",
     "text": [
      "100%|██████████████████████████████████████████| 18/18 [00:00<00:00, 260.41it/s]\n"
     ]
    },
    {
     "name": "stdout",
     "output_type": "stream",
     "text": [
      "Val Accuracy:  0.8831\n",
      "Val Loss:  0.1161\n"
     ]
    },
    {
     "name": "stderr",
     "output_type": "stream",
     "text": [
      "100%|████████████████████████████| 53/53 [00:00<00:00, 102.38it/s, Loss=0.00817]\n"
     ]
    },
    {
     "name": "stdout",
     "output_type": "stream",
     "text": [
      "Train Loss:  0.033\n"
     ]
    },
    {
     "name": "stderr",
     "output_type": "stream",
     "text": [
      "100%|██████████████████████████████████████████| 18/18 [00:00<00:00, 245.40it/s]\n"
     ]
    },
    {
     "name": "stdout",
     "output_type": "stream",
     "text": [
      "Val Accuracy:  0.875\n",
      "Val Loss:  0.1061\n"
     ]
    },
    {
     "name": "stderr",
     "output_type": "stream",
     "text": [
      "100%|██████████████████████████████| 53/53 [00:00<00:00, 94.98it/s, Loss=0.0294]\n"
     ]
    },
    {
     "name": "stdout",
     "output_type": "stream",
     "text": [
      "Train Loss:  0.0291\n"
     ]
    },
    {
     "name": "stderr",
     "output_type": "stream",
     "text": [
      "100%|██████████████████████████████████████████| 18/18 [00:00<00:00, 236.41it/s]\n"
     ]
    },
    {
     "name": "stdout",
     "output_type": "stream",
     "text": [
      "Val Accuracy:  0.8889\n",
      "Val Loss:  0.1049\n"
     ]
    },
    {
     "name": "stderr",
     "output_type": "stream",
     "text": [
      "100%|██████████████████████████████| 53/53 [00:00<00:00, 97.06it/s, Loss=0.0164]\n"
     ]
    },
    {
     "name": "stdout",
     "output_type": "stream",
     "text": [
      "Train Loss:  0.0226\n"
     ]
    },
    {
     "name": "stderr",
     "output_type": "stream",
     "text": [
      "100%|██████████████████████████████████████████| 18/18 [00:00<00:00, 236.94it/s]\n"
     ]
    },
    {
     "name": "stdout",
     "output_type": "stream",
     "text": [
      "Val Accuracy:  0.9867\n",
      "Val Loss:  0.1157\n"
     ]
    },
    {
     "name": "stderr",
     "output_type": "stream",
     "text": [
      "100%|██████████████████████████████| 53/53 [00:00<00:00, 99.93it/s, Loss=0.0284]\n"
     ]
    },
    {
     "name": "stdout",
     "output_type": "stream",
     "text": [
      "Train Loss:  0.0223\n"
     ]
    },
    {
     "name": "stderr",
     "output_type": "stream",
     "text": [
      "100%|██████████████████████████████████████████| 18/18 [00:00<00:00, 245.00it/s]\n"
     ]
    },
    {
     "name": "stdout",
     "output_type": "stream",
     "text": [
      "Val Accuracy:  0.9351\n",
      "Val Loss:  0.117\n"
     ]
    },
    {
     "name": "stderr",
     "output_type": "stream",
     "text": [
      "100%|█████████████████████████████| 53/53 [00:00<00:00, 100.25it/s, Loss=0.0597]\n"
     ]
    },
    {
     "name": "stdout",
     "output_type": "stream",
     "text": [
      "Train Loss:  0.027\n"
     ]
    },
    {
     "name": "stderr",
     "output_type": "stream",
     "text": [
      "100%|██████████████████████████████████████████| 18/18 [00:00<00:00, 232.34it/s]\n"
     ]
    },
    {
     "name": "stdout",
     "output_type": "stream",
     "text": [
      "Val Accuracy:  0.8923\n",
      "Val Loss:  0.118\n"
     ]
    },
    {
     "name": "stderr",
     "output_type": "stream",
     "text": [
      "100%|█████████████████████████████| 53/53 [00:00<00:00, 99.01it/s, Loss=0.00615]\n"
     ]
    },
    {
     "name": "stdout",
     "output_type": "stream",
     "text": [
      "Train Loss:  0.0219\n"
     ]
    },
    {
     "name": "stderr",
     "output_type": "stream",
     "text": [
      "100%|██████████████████████████████████████████| 18/18 [00:00<00:00, 248.50it/s]\n",
      "/Users/kushagraseth/Documents/pvenv/lib/python3.10/site-packages/seqeval/metrics/sequence_labeling.py:171: UserWarning: I_genre seems not to be NE tag.\n",
      "  warnings.warn('{} seems not to be NE tag.'.format(chunk))\n"
     ]
    },
    {
     "name": "stdout",
     "output_type": "stream",
     "text": [
      "Val Accuracy:  0.9383\n",
      "Val Loss:  0.1232\n"
     ]
    },
    {
     "name": "stderr",
     "output_type": "stream",
     "text": [
      "100%|██████████████████████████████| 53/53 [00:00<00:00, 99.33it/s, Loss=0.0444]\n"
     ]
    },
    {
     "name": "stdout",
     "output_type": "stream",
     "text": [
      "Train Loss:  0.0232\n"
     ]
    },
    {
     "name": "stderr",
     "output_type": "stream",
     "text": [
      "100%|██████████████████████████████████████████| 18/18 [00:00<00:00, 251.81it/s]\n"
     ]
    },
    {
     "name": "stdout",
     "output_type": "stream",
     "text": [
      "Val Accuracy:  0.962\n",
      "Val Loss:  0.1267\n"
     ]
    },
    {
     "name": "stderr",
     "output_type": "stream",
     "text": [
      "100%|█████████████████████████████| 53/53 [00:00<00:00, 99.82it/s, Loss=0.00781]\n"
     ]
    },
    {
     "name": "stdout",
     "output_type": "stream",
     "text": [
      "Train Loss:  0.0268\n"
     ]
    },
    {
     "name": "stderr",
     "output_type": "stream",
     "text": [
      "100%|██████████████████████████████████████████| 18/18 [00:00<00:00, 241.66it/s]\n"
     ]
    },
    {
     "name": "stdout",
     "output_type": "stream",
     "text": [
      "Val Accuracy:  0.8857\n",
      "Val Loss:  0.1206\n"
     ]
    }
   ],
   "source": [
    "optimizer = torch.optim.AdamW(model.parameters(),\n",
    "                              lr = 0.01)\n",
    "loss_fn = nn.CrossEntropyLoss().to(device)\n",
    "score_fn = f1_score\n",
    "\n",
    "train_loss_list = []\n",
    "val_loss_list = []\n",
    "f1_score_list = []\n",
    "n_epochs = 25\n",
    "best_acc = 0\n",
    "PATH = f'best-model.pt'\n",
    "\n",
    "for epoch in range(n_epochs):\n",
    "    # Model Training\n",
    "    train_loss = train(train_loader, \n",
    "                     model, \n",
    "                     optimizer, \n",
    "                     loss_fn)\n",
    "    train_loss_list.append(train_loss)\n",
    "    print('Train Loss: ', train_loss)\n",
    "    \n",
    "    # Model Evaluation\n",
    "    tags, predictions, val_loss, accuracy = evaluate(val_loader, \n",
    "                                                       model, \n",
    "                                                       loss_fn, \n",
    "                                                       score_fn)\n",
    "    val_loss_list.append(val_loss)\n",
    "    f1_score_list.append(accuracy)\n",
    "    print('Val Accuracy: ', accuracy)\n",
    "    print('Val Loss: ', val_loss)\n",
    "    \n",
    "    # Save model if Validation F1_Score is greather than 75%\n",
    "    if accuracy > best_acc and accuracy > 0.75:\n",
    "        torch.save(model.state_dict(), PATH)"
   ]
  },
  {
   "cell_type": "code",
   "execution_count": 18,
   "id": "4d6f6a81",
   "metadata": {},
   "outputs": [
    {
     "data": {
      "image/png": "[encoded data removed]",
      "text/plain": [
       "<Figure size 640x480 with 1 Axes>"
      ]
     },
     "metadata": {},
     "output_type": "display_data"
    }
   ],
   "source": [
    "epochs = np.arange(n_epochs)  \n",
    "\n",
    "plt.style.use('ggplot')\n",
    "plt.plot(epochs, train_loss_list, label = \"Training Loss\", color = \"red\", linewidth = '3')\n",
    "plt.plot(epochs, val_loss_list, label = \"Validation Loss\", color = \"green\", linewidth = '3')\n",
    "plt.xlabel('Epoch')\n",
    "plt.ylabel('Loss')\n",
    "plt.title('Training Loss vs Validation Loss', color = 'black')\n",
    "plt.legend(shadow = True, labelcolor = 'black')\n",
    "plt.savefig('Images/train_vs_val_loss_plot.png')"
   ]
  },
  {
   "attachments": {},
   "cell_type": "markdown",
   "id": "d052dd49",
   "metadata": {},
   "source": [
    "# Validation Accuracy Plot"
   ]
  },
  {
   "cell_type": "code",
   "execution_count": 19,
   "id": "fe7459ae",
   "metadata": {},
   "outputs": [
    {
     "data": {
      "image/png": "[encoded data removed]",
      "text/plain": [
       "<Figure size 640x480 with 1 Axes>"
      ]
     },
     "metadata": {},
     "output_type": "display_data"
    }
   ],
   "source": [
    "plt.plot(epochs, f1_score_list, color = 'blue', linewidth = '2')\n",
    "plt.xlabel('Epoch')\n",
    "plt.ylabel('F1_Score')\n",
    "plt.title('Validation Accuracy', color = 'black')\n",
    "plt.savefig('Images/f1_accuracy_plot.png')"
   ]
  },
  {
   "attachments": {},
   "cell_type": "markdown",
   "id": "9bdd734e",
   "metadata": {},
   "source": [
    "# Load the saved model"
   ]
  },
  {
   "cell_type": "code",
   "execution_count": 20,
   "id": "ae6188d2",
   "metadata": {},
   "outputs": [
    {
     "data": {
      "text/plain": [
       "LSTM(\n",
       "  (embedding): Embedding(2196011, 300)\n",
       "  (lstm): LSTM(300, 20, num_layers=2, batch_first=True, dropout=0.2, bidirectional=True)\n",
       "  (fc1): Linear(in_features=40, out_features=20, bias=True)\n",
       "  (fc2): Linear(in_features=20, out_features=27, bias=True)\n",
       "  (dropout): Dropout(p=0.2, inplace=False)\n",
       ")"
      ]
     },
     "execution_count": 20,
     "metadata": {},
     "output_type": "execute_result"
    }
   ],
   "source": [
    "saved_model = LSTM(EMBEDDING_DIM, \n",
    "                   HIDDEN_DIM, \n",
    "                   OUTPUT_DIM, \n",
    "                   NUM_LAYERS, \n",
    "                   BIDIRECTION, \n",
    "                   DROPOUT).to(device)\n",
    "\n",
    "saved_model.load_state_dict(torch.load(PATH))\n",
    "saved_model.eval()"
   ]
  },
  {
   "attachments": {},
   "cell_type": "markdown",
   "id": "a5a62a79",
   "metadata": {},
   "source": [
    "# Model Predict Function"
   ]
  },
  {
   "cell_type": "code",
   "execution_count": 21,
   "id": "ec96c585",
   "metadata": {},
   "outputs": [
    {
     "name": "stderr",
     "output_type": "stream",
     "text": [
      "100%|███████████████████████████████████████| 981/981 [00:00<00:00, 1706.05it/s]\n",
      "/var/folders/hk/l7897jp170bb9tbb20n80tz00000gn/T/ipykernel_93210/242441740.py:21: VisibleDeprecationWarning: Creating an ndarray from ragged nested sequences (which is a list-or-tuple of lists-or-tuples-or ndarrays with different lengths or shapes) is deprecated. If you meant to do this, you must specify 'dtype=object' when creating the ndarray.\n",
      "  predicted_tags = np.array(predicted_tags)\n"
     ]
    }
   ],
   "source": [
    "def predict(loader, \n",
    "            model):\n",
    "    predictions = []\n",
    "    for x, lengths in tqdm(loader):\n",
    "        with torch.no_grad():\n",
    "            y_pred = saved_model.forward(x, lengths)\n",
    "            \n",
    "            max_len = x.shape[1]\n",
    "\n",
    "            # Convert y_pred to 2D Tensor\n",
    "            y_pred = y_pred.view(-1, y_pred.shape[-1])\n",
    "\n",
    "            max_preds = y_pred.argmax(dim = 1, keepdim = True) # Get the index of the max probability\n",
    "            predictions_iob = convert_idx_to_tags(slice_list((squeezed_list(max_preds)), max_len), False)\n",
    "            predictions.append(predictions_iob)\n",
    "    \n",
    "    return predictions\n",
    "\n",
    "predicted_tags = predict(test_loader, saved_model)\n",
    "predicted_tags = np.array(predicted_tags)\n",
    "predicted_tags = predicted_tags.squeeze().tolist()"
   ]
  },
  {
   "attachments": {},
   "cell_type": "markdown",
   "id": "95d9f0bf",
   "metadata": {},
   "source": [
    "# Creating Dictionary of Predictions"
   ]
  },
  {
   "cell_type": "code",
   "execution_count": 22,
   "id": "273fe4d0",
   "metadata": {},
   "outputs": [
    {
     "name": "stdout",
     "output_type": "stream",
     "text": [
      "      ID                                      IOB Slot tags\n",
      "0      0                                        O O B_movie\n",
      "1      1                          O O O O O B_movie I_movie\n",
      "2      2                        O O O O O O B_movie I_movie\n",
      "3      3                                      O O O B_movie\n",
      "4      4                                      O O O B_movie\n",
      "..   ...                                                ...\n",
      "976  976        O O B_movie I_movie I_movie I_movie I_movie\n",
      "977  977                            O B_movie I_movie O O O\n",
      "978  978                O O O O O O B_producer I_producer O\n",
      "979  979  O O B_director I_director O O O O B_movie I_mo...\n",
      "980  980                   O O B_director O O O O B_country\n",
      "\n",
      "[981 rows x 2 columns]\n"
     ]
    }
   ],
   "source": [
    "list_of_dict = []\n",
    "for i in range(len(predicted_tags)):\n",
    "    temp_dict = {}\n",
    "    temp_dict[\"ID\"] = i\n",
    "    temp_dict[\"IOB Slot tags\"] = ' '.join(predicted_tags[i])\n",
    "    list_of_dict.append(temp_dict)\n",
    "\n",
    "# Converting Dictionary to CSV and compress it for submission to CodaLab\n",
    "tags_df = pd.DataFrame.from_dict(list_of_dict)\n",
    "tags_df.to_csv('submission.csv.zip', compression = 'zip', index = False)\n",
    "print(tags_df)"
   ]
  }
 ],
 "metadata": {
  "kernelspec": {
   "display_name": "Python 3 (ipykernel)",
   "language": "python",
   "name": "python3"
  },
  "language_info": {
   "codemirror_mode": {
    "name": "ipython",
    "version": 3
   },
   "file_extension": ".py",
   "mimetype": "text/x-python",
   "name": "python",
   "nbconvert_exporter": "python",
   "pygments_lexer": "ipython3",
   "version": "3.9.6"
  },
  "vscode": {
   "interpreter": {
    "hash": "31f2aee4e71d21fbe5cf8b01ff0e069b9275f58929596ceb00d14d90e3e16cd6"
   }
  }
 },
 "nbformat": 4,
 "nbformat_minor": 5
}
