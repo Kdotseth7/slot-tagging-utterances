{
 "cells": [
  {
   "cell_type": "code",
   "execution_count": 1,
   "id": "6c00405d",
   "metadata": {},
   "outputs": [
    {
     "name": "stdout",
     "output_type": "stream",
     "text": [
      "Device:  cpu\n"
     ]
    }
   ],
   "source": [
    "# Imports\n",
    "import torch\n",
    "import torch.nn as nn\n",
    "from torch.utils.data import Dataset, DataLoader\n",
    "from torch.nn.utils.rnn import pad_sequence\n",
    "\n",
    "import numpy as np\n",
    "import pandas as pd\n",
    "import re\n",
    "import seaborn as sns\n",
    "import contractions\n",
    "import operator\n",
    "import matplotlib.pyplot as plt\n",
    "from itertools import islice\n",
    "%matplotlib inline\n",
    "\n",
    "from sklearn.model_selection import train_test_split\n",
    "from sklearn.metrics import multilabel_confusion_matrix\n",
    "\n",
    "from seqeval.metrics import f1_score\n",
    "from seqeval.scheme import IOB2\n",
    "\n",
    "from tqdm import tqdm\n",
    "\n",
    "import spacy\n",
    "nlp = spacy.load(\"en_core_web_sm\")\n",
    "from spacy.tokenizer import Tokenizer\n",
    "tokenizer = Tokenizer(nlp.vocab)\n",
    "\n",
    "# Set device = CUDA if available\n",
    "device = 'cuda' if torch.cuda.is_available() else 'cpu'\n",
    "print('Device: ', device)"
   ]
  },
  {
   "cell_type": "code",
   "execution_count": 2,
   "id": "34b898e3",
   "metadata": {},
   "outputs": [
    {
     "name": "stdout",
     "output_type": "stream",
     "text": [
      "Train Set Shape: (2312, 2)\n",
      "Train Set with unequal rows removed Shape:  (2253, 2)\n",
      "Test Set Shape: (981, 1)\n"
     ]
    }
   ],
   "source": [
    "# Reading CSV File into Pandas DataFrame\n",
    "\n",
    "# Reading Train Dataset into DataFrame\n",
    "dataF = pd.read_csv('Data/hw2_train.csv', index_col = 0)\n",
    "dataF.columns = ['texts', 'tags']\n",
    "print('Train Set Shape:', dataF.shape)\n",
    "# print(dataF.tail())\n",
    "\n",
    "# Removing unequal texts and tags from train dataset\n",
    "list_of_dict = []\n",
    "for idx, row in dataF.iterrows():\n",
    "    temp_dict = {}\n",
    "    len_text = len(row['texts'].split())\n",
    "    len_tag = len(row['tags'].split())\n",
    "    if(len_text == len_tag):\n",
    "        temp_dict['texts'] = row['texts']\n",
    "        temp_dict['tags'] = row['tags']\n",
    "        list_of_dict.append(temp_dict)\n",
    "df = pd.DataFrame.from_dict(list_of_dict)\n",
    "print('Train Set with unequal rows removed Shape: ', df.shape)\n",
    "# print(df.tail())\n",
    "\n",
    "# Reading Test Dataset into DataFrame\n",
    "test_data = pd.read_csv('Data/hw2_test.csv', index_col = 0)\n",
    "test_data.columns = ['texts']\n",
    "print('Test Set Shape:', test_data.shape)\n",
    "# print(test_df.tail())"
   ]
  },
  {
   "cell_type": "code",
   "execution_count": 72,
   "id": "d233c178",
   "metadata": {},
   "outputs": [
    {
     "name": "stdout",
     "output_type": "stream",
     "text": [
      "Train Data Shape:  (1689, 2)\n",
      "Test Data Shape:  (564, 2)\n"
     ]
    }
   ],
   "source": [
    "# Splitting the Training dataset into the Training set and Validation set\n",
    "train_data, val_data = train_test_split(df,\n",
    "                                        random_state = 0, \n",
    "                                        test_size = 0.25, \n",
    "                                        shuffle = True)\n",
    "print('Train Data Shape: ', train_data.shape)\n",
    "print('Test Data Shape: ', val_data.shape)"
   ]
  },
  {
   "cell_type": "code",
   "execution_count": 74,
   "id": "b379312a",
   "metadata": {},
   "outputs": [
    {
     "name": "stdout",
     "output_type": "stream",
     "text": [
      "2196009\n"
     ]
    }
   ],
   "source": [
    "# Pre-Trained GloVe Word Embeddings\n",
    "glove = pd.read_csv('Data/gloVe/glove.840B.300d.txt', sep = ' ', quoting = 3, header = None, index_col = 0)\n",
    "glove_embedding = {key: val.values for key, val in glove.T.items()}\n",
    "print(len(glove_embedding))"
   ]
  },
  {
   "cell_type": "code",
   "execution_count": 77,
   "id": "68c21e07",
   "metadata": {},
   "outputs": [
    {
     "name": "stdout",
     "output_type": "stream",
     "text": [
      "Vocab Shape:  (2196009,)\n",
      "Embeddings Shape:  (2196009, 300)\n"
     ]
    }
   ],
   "source": [
    "# Create NumPy Array for Vocab and Emeddings\n",
    "vocab = list(glove_embedding.keys())\n",
    "embeddings = list(glove_embedding.values())\n",
    "\n",
    "vocab = np.array(vocab)\n",
    "embeddings = np.array(embeddings)\n",
    "print('Vocab Shape: ', vocab.shape)\n",
    "print('Embeddings Shape: ', embeddings.shape)"
   ]
  },
  {
   "cell_type": "code",
   "execution_count": 79,
   "id": "dbea4f52",
   "metadata": {},
   "outputs": [
    {
     "name": "stdout",
     "output_type": "stream",
     "text": [
      "(2196013,)\n",
      "(2196013, 300)\n"
     ]
    }
   ],
   "source": [
    "# Insert '<pad>' and '<unk>' tokens at start of vocab\n",
    "vocab = np.insert(vocab, 0, '<pad>')\n",
    "vocab = np.insert(vocab, 1, '<unk>')\n",
    "print(vocab.shape)\n",
    "\n",
    "# Insert embeddings for pad and unk tokens at top of embeddings\n",
    "embedding_pad = np.zeros((1, \n",
    "                          embeddings.shape[1]))\n",
    "embedding_unk = np.mean(embeddings, \n",
    "                        axis = 0, \n",
    "                        keepdims = True)\n",
    "embeddings = np.vstack((embedding_pad, \n",
    "                        embedding_unk, \n",
    "                        embeddings))\n",
    "print(embeddings.shape)"
   ]
  },
  {
   "cell_type": "code",
   "execution_count": 80,
   "id": "dd82ad73",
   "metadata": {},
   "outputs": [
    {
     "name": "stdout",
     "output_type": "stream",
     "text": [
      "{0: 'I_mpaa_rating', 1: 'B_language', 2: 'O', 3: 'I_producer', 4: 'B_director', 5: 'I_release_year', 6: 'I-movie', 7: 'B_char', 8: 'I_genre', 9: 'B_person', 10: 'B_mpaa_rating', 11: 'B_location', 12: 'I_subject', 13: 'B_subject', 14: 'B_country', 15: 'B_genre', 16: 'I_movie', 17: 'I_language', 18: 'I_cast', 19: 'I_person', 20: 'B_cast', 21: 'I_char', 22: 'B_release_year', 23: 'I_country', 24: 'B_producer', 25: 'B_movie', 26: 'I_director'}\n",
      "27\n"
     ]
    }
   ],
   "source": [
    "# Dictionary for words\n",
    "word2idx = { term: idx for idx, term in enumerate(vocab) }\n",
    "word2idx['<pad>'] = 0\n",
    "word2idx['<unk>'] = 1\n",
    "idx2word = { idx: word for word,idx in word2idx.items() }\n",
    "# print(len(word2idx))\n",
    "\n",
    "# for k,v in sorted(word2idx.items(), key = operator.itemgetter(1))[:50]:\n",
    "#     print(k,v)\n",
    "\n",
    "# Dicitionary for tags\n",
    "tag_set = set()\n",
    "tag_count_dict = {}\n",
    "for index, row in df.iterrows():\n",
    "    temp = row['tags'].split()\n",
    "    for item in temp:\n",
    "        tag_set.add(item)\n",
    "        if item not in tag_count_dict:\n",
    "            tag_count_dict[item] = 1\n",
    "        else:\n",
    "            tag_count_dict[item] = tag_count_dict[item] + 1\n",
    "\n",
    "tag2idx = { tag: idx for idx, tag in enumerate(tag_set) }\n",
    "idx2tag = { idx: word for word, idx in tag2idx.items() }\n",
    "print(idx2tag)\n",
    "\n",
    "TAG_COUNT = len(tag2idx)\n",
    "print(TAG_COUNT)"
   ]
  },
  {
   "cell_type": "code",
   "execution_count": 125,
   "id": "4259625a",
   "metadata": {},
   "outputs": [
    {
     "data": {
      "image/png": "[encoded data removed]",
      "text/plain": [
       "<Figure size 1000x1000 with 1 Axes>"
      ]
     },
     "metadata": {},
     "output_type": "display_data"
    }
   ],
   "source": [
    "# Representation of Tags in the Dataset\n",
    "tag_names = list(tag_count_dict.keys())\n",
    "o_tag = tag_names.pop(0)\n",
    "\n",
    "tag_count = list(tag_count_dict.values())\n",
    "o_tag_count = tag_count.pop(0)\n",
    "\n",
    "tag_df = pd.DataFrame({\"iob_tags_count\": tag_count, \"iob_tags\": tag_names})\n",
    "plt.figure(figsize = (10, 10))\n",
    "splot = sns.barplot(x = \"iob_tags_count\", y = \"iob_tags\" , data = tag_df, orient ='h')\n",
    "splot.bar_label(splot.containers[0], color='black')\n",
    "plt.xlabel(\"IOB Tags Count\", size = 10)\n",
    "plt.ylabel(\"IOB Tags\", size = 10)\n",
    "plt.xticks(fontsize = 8)\n",
    "plt.yticks(fontsize = 8)\n",
    "plt.title(\"IOB Tags Count vs IOB Tags \\n (excluding tag %s: %d)\" %(o_tag, o_tag_count))\n",
    "\n",
    "plt.savefig('Images/tag_count.png')"
   ]
  },
  {
   "cell_type": "code",
   "execution_count": 81,
   "id": "f5e66e1b",
   "metadata": {},
   "outputs": [],
   "source": [
    "# SlotTagger Class for DataLoader\n",
    "class SlotTaggerDataset(Dataset):\n",
    "    \n",
    "    def __init__(self, \n",
    "                 data: pd.DataFrame):\n",
    "        self.data = data\n",
    "        self.texts = self.data['texts']\n",
    "        if 'tags' in self.data.columns:\n",
    "            self.tags = self.data['tags']\n",
    "        \n",
    "    def __len__(self):\n",
    "        return len(self.data)\n",
    "    \n",
    "    def __getitem__(self, \n",
    "                    idx: int):\n",
    "        # Enoding Text\n",
    "        text = self.texts.iloc[idx]\n",
    "        encoded_text = self.encode_text(text)\n",
    "        \n",
    "        # Encoding Tags if they exist\n",
    "        if 'tags' in self.data.columns:\n",
    "            tag = self.tags.iloc[idx]\n",
    "            encoded_tag = self.encode_tag(tag)\n",
    "            return encoded_text, encoded_tag \n",
    "        else:\n",
    "            return encoded_text\n",
    "        \n",
    "    # Tokenize    \n",
    "    def tokenize(self, \n",
    "                 text: str):\n",
    "        return [i.text for i in tokenizer(text)]\n",
    "    \n",
    "    # Encode Text\n",
    "    def encode_text(self, \n",
    "                    text):\n",
    "        text_list = [word for word in self.tokenize(text)]\n",
    "        text_vector = []\n",
    "        for word in text_list:\n",
    "            if word in word2idx:\n",
    "                text_vector.append(word2idx[word])\n",
    "            else:\n",
    "                text_vector.append(1)\n",
    "        return text_vector\n",
    "    \n",
    "    # Enocde Tags\n",
    "    def encode_tag(self, \n",
    "                   tag):\n",
    "        tag_list = [word for word in self.tokenize(tag)]\n",
    "        tag_vector = [tag2idx[word] for word in tag_list]\n",
    "        return tag_vector"
   ]
  },
  {
   "cell_type": "code",
   "execution_count": 82,
   "id": "1b8d42fa",
   "metadata": {},
   "outputs": [],
   "source": [
    "# Slot Tagger Object for DataLoader\n",
    "train_ds = SlotTaggerDataset(train_data)\n",
    "# print(train_ds[0])\n",
    "val_ds = SlotTaggerDataset(val_data)\n",
    "# print(val_ds[0])\n",
    "test_ds = SlotTaggerDataset(test_data)\n",
    "# print(test_ds[0])"
   ]
  },
  {
   "cell_type": "code",
   "execution_count": 83,
   "id": "d9aae1b5",
   "metadata": {},
   "outputs": [],
   "source": [
    "# PyTorch Data Loader\n",
    "def custom_collate_fn(batch):\n",
    "    if isinstance(batch[0], list):\n",
    "        texts_tensor = [torch.tensor(text) for text in batch]\n",
    "\n",
    "        lengths = [len(text) for text in batch]\n",
    "        lengths = torch.tensor(lengths)\n",
    "\n",
    "        texts_padded = pad_sequence(texts_tensor, batch_first = True, padding_value = 0)\n",
    "\n",
    "        return texts_padded, lengths\n",
    "\n",
    "    else:\n",
    "        texts, tags = zip(*batch)\n",
    "\n",
    "        texts_tensor = [torch.tensor(text) for text in texts]\n",
    "        tags_tensor = [torch.tensor(tag) for tag in tags]\n",
    "\n",
    "        lengths = [len(text) for text in texts]\n",
    "        lengths = torch.tensor(lengths)\n",
    "\n",
    "        texts_padded = pad_sequence(texts_tensor, batch_first = True, padding_value = 0)\n",
    "        tags_padded = pad_sequence(tags_tensor, batch_first = True, padding_value = 0)\n",
    "\n",
    "        return texts_padded, tags_padded, lengths\n",
    "\n",
    "BATCH_SIZE = 32\n",
    "\n",
    "train_loader = DataLoader(train_ds, \n",
    "                          batch_size = BATCH_SIZE, \n",
    "                          shuffle = True, \n",
    "                          collate_fn = custom_collate_fn)\n",
    "val_loader = DataLoader(val_ds, \n",
    "                        batch_size = BATCH_SIZE, \n",
    "                        shuffle = True, \n",
    "                        collate_fn = custom_collate_fn)\n",
    "\n",
    "test_loader = DataLoader(test_ds, \n",
    "                        batch_size = 1, \n",
    "                        shuffle = False, \n",
    "                        collate_fn = custom_collate_fn)\n",
    "\n",
    "# print(list(islice(train_loader, 1)))\n",
    "\n",
    "assert train_data.shape[0] == len(train_loader.dataset)\n",
    "assert val_data.shape[0] == len(val_loader.dataset)\n",
    "assert test_data.shape[0] == len(test_loader.dataset)"
   ]
  },
  {
   "cell_type": "code",
   "execution_count": null,
   "id": "78f9fbbb",
   "metadata": {},
   "outputs": [],
   "source": [
    "# # Uni-LSTM Model with 2 hidden layers\n",
    "# class LSTM(nn.Module):\n",
    "#     def __init__(self, \n",
    "#                  embedding_dim, \n",
    "#                  hidden_dim, \n",
    "#                  output_dim, \n",
    "#                  n_layers, \n",
    "#                  bidirectional, \n",
    "#                  dropout):\n",
    "#         super().__init__()\n",
    "        \n",
    "#         # Initialize Embedding Layer with Pre-Trained Embeddings (Vector Sequences)\n",
    "#         self.embedding = nn.Embedding.from_pretrained(torch.from_numpy(embeddings).float())\n",
    "#         # LSTM layer process the vector sequences \n",
    "#         self.lstm = nn.LSTM(embedding_dim, \n",
    "#                             hidden_dim,\n",
    "#                             num_layers = n_layers,\n",
    "#                             bidirectional = bidirectional,\n",
    "# #                             dropout = dropout,\n",
    "#                             batch_first = True)\n",
    "# #         # We use dropout before the final layer to improve with regularization\n",
    "# #         self.dropout = nn.Dropout(dropout)\n",
    "#         # Dense layer to predict \n",
    "#         self.fc = nn.Linear(hidden_dim, output_dim)\n",
    "        \n",
    "#     def forward(self, \n",
    "#                 x, \n",
    "#                 x_lengths):\n",
    "#         embedded = self.embedding(x)\n",
    "#         packed_embedded = nn.utils.rnn.pack_padded_sequence(embedded, \n",
    "#                                                             x_lengths, \n",
    "#                                                             batch_first = True, \n",
    "#                                                             enforce_sorted = False) # Pack sequence\n",
    "#         packed_output, (hidden, cell) = self.lstm(packed_embedded)\n",
    "#         output, output_lengths = nn.utils.rnn.pad_packed_sequence(packed_output, \n",
    "#                                                                   batch_first = True) # Unpack sequence\n",
    "# #         output = self.dropout(output)\n",
    "#         output = self.fc(output)\n",
    "#         return output"
   ]
  },
  {
   "cell_type": "code",
   "execution_count": 84,
   "id": "5c21cf78",
   "metadata": {},
   "outputs": [],
   "source": [
    "# Bi-LSTM Model with 2 hidden layers\n",
    "class LSTM(nn.Module):\n",
    "    def __init__(self, \n",
    "                 embedding_dim, \n",
    "                 hidden_dim, \n",
    "                 output_dim, \n",
    "                 n_layers, \n",
    "                 bidirectional, \n",
    "                 dropout):\n",
    "        super().__init__()\n",
    "        \n",
    "        # Initialize Embedding Layer with Pre-Trained Embeddings (Vector Sequences)\n",
    "        self.embedding = nn.Embedding.from_pretrained(torch.from_numpy(embeddings).float())\n",
    "        # LSTM layer process the vector sequences \n",
    "        self.lstm = nn.LSTM(embedding_dim, \n",
    "                            hidden_dim,\n",
    "                            num_layers = n_layers,\n",
    "                            bidirectional = bidirectional,\n",
    "#                             dropout = dropout,\n",
    "                            batch_first = True)\n",
    "        num_directions = 2 if bidirectional else 1\n",
    "        # Dense layers to predict \n",
    "        self.fc = nn.Linear(hidden_dim * num_directions, output_dim)\n",
    "#         # We use dropout before the final layer to improve with regularization\n",
    "#         self.dropout = nn.Dropout(dropout)\n",
    "        \n",
    "    def forward(self, \n",
    "                x, \n",
    "                x_lengths):\n",
    "        embedded = self.embedding(x)\n",
    "        packed_embedded = nn.utils.rnn.pack_padded_sequence(embedded, \n",
    "                                                            x_lengths, \n",
    "                                                            batch_first = True, \n",
    "                                                            enforce_sorted = False) # Pack sequence\n",
    "        packed_output, (hidden, cell) = self.lstm(packed_embedded)\n",
    "        output, output_lengths = nn.utils.rnn.pad_packed_sequence(packed_output, \n",
    "                                                                  batch_first = True) # Unpack sequence\n",
    "#         output = output[:, -1, :]\n",
    "        output = self.fc(output)\n",
    "        return output"
   ]
  },
  {
   "cell_type": "code",
   "execution_count": 85,
   "id": "b4cf2157",
   "metadata": {},
   "outputs": [
    {
     "name": "stdout",
     "output_type": "stream",
     "text": [
      "LSTM(\n",
      "  (embedding): Embedding(2196013, 300)\n",
      "  (lstm): LSTM(300, 20, num_layers=2, batch_first=True, bidirectional=True)\n",
      "  (fc): Linear(in_features=40, out_features=27, bias=True)\n",
      ")\n"
     ]
    }
   ],
   "source": [
    "torch.manual_seed(32)\n",
    "\n",
    "EMBEDDING_DIM = embeddings.shape[1]\n",
    "HIDDEN_DIM = 20\n",
    "OUTPUT_DIM = TAG_COUNT\n",
    "NUM_LAYERS = 2\n",
    "BIDIRECTION = True\n",
    "DROPOUT = 0.2\n",
    "\n",
    "model = LSTM(EMBEDDING_DIM, \n",
    "            HIDDEN_DIM, \n",
    "            OUTPUT_DIM, \n",
    "            NUM_LAYERS, \n",
    "            BIDIRECTION, \n",
    "            DROPOUT).to(device)\n",
    "\n",
    "print(model)"
   ]
  },
  {
   "cell_type": "code",
   "execution_count": 86,
   "id": "cf60ffef",
   "metadata": {},
   "outputs": [],
   "source": [
    "def squeezed_list(my_list):\n",
    "    temp_list = [int(element) for element in my_list]\n",
    "    return temp_list  \n",
    "\n",
    "def slice_list(my_list, slice_increment):\n",
    "    return [my_list[i : i + slice_increment] for i in range(0, len(my_list), slice_increment)]\n",
    "\n",
    "def convert_idx_to_tags(lol, isTensor):\n",
    "    iob_list = []\n",
    "    for list_element in lol:\n",
    "        if (isTensor):\n",
    "            list_element = list_element.numpy() \n",
    "        iob = [idx2tag[index] for index in list_element]\n",
    "        iob_list.append(iob)\n",
    "    return iob_list"
   ]
  },
  {
   "cell_type": "code",
   "execution_count": 87,
   "id": "fade282e",
   "metadata": {},
   "outputs": [],
   "source": [
    "# Model Train Function\n",
    "def train(loader, \n",
    "          model, \n",
    "          optimizer, \n",
    "          loss_fn):\n",
    "    model.train()\n",
    "    losses = []\n",
    "    pbar = tqdm(loader)\n",
    "    for x, y, lengths in pbar:\n",
    "        optimizer.zero_grad()\n",
    "        \n",
    "        y_pred = model(x, lengths)\n",
    "        \n",
    "        y_pred = y_pred.view(-1, y_pred.shape[-1])\n",
    "        y = torch.flatten(y)\n",
    "        \n",
    "        loss = loss_fn(y_pred, y)\n",
    "        pbar.set_postfix({'Loss': loss.item()})\n",
    "        losses.append(loss.item())\n",
    "        \n",
    "        # Calculate gradients for w/b\n",
    "        loss.backward()  \n",
    "        # Update weights according to optimizer rules\n",
    "        optimizer.step()          \n",
    "    return sum(losses) / len(losses)\n",
    "\n",
    "# Model Evaluate Function\n",
    "def evaluate(loader, \n",
    "             model, \n",
    "             loss_fn, \n",
    "             score_fn):\n",
    "    model.eval()\n",
    "    losses = []\n",
    "    for x, y, lengths in tqdm(loader):\n",
    "        y_pred = model(x, lengths)\n",
    "        \n",
    "        max_len = x.shape[1]\n",
    "              \n",
    "        y_pred = y_pred.view(-1, y_pred.shape[-1])\n",
    "        y = torch.flatten(y)\n",
    "        \n",
    "\n",
    "        loss = loss_fn(y_pred, y)\n",
    "        losses.append(loss.item())\n",
    "        \n",
    "        tags_iob = convert_idx_to_tags(slice_list(y, max_len), True)\n",
    "\n",
    "        max_preds = y_pred.argmax(dim = 1, keepdim = True) # Get the index of the max probability\n",
    "        predictions_iob = convert_idx_to_tags(slice_list((squeezed_list(max_preds)), max_len), False)\n",
    "    \n",
    "    score = score_fn(tags_iob, predictions_iob, scheme = IOB2)\n",
    "    return tags_iob, predictions_iob, sum(losses) / len(losses), score"
   ]
  },
  {
   "cell_type": "code",
   "execution_count": 127,
   "id": "bc19c22f",
   "metadata": {},
   "outputs": [
    {
     "name": "stderr",
     "output_type": "stream",
     "text": [
      "100%|█████████████████████████████| 53/53 [00:00<00:00, 87.92it/s, Loss=8.53e-5]\n"
     ]
    },
    {
     "name": "stdout",
     "output_type": "stream",
     "text": [
      "Train Loss:  0.00425134556719127\n"
     ]
    },
    {
     "name": "stderr",
     "output_type": "stream",
     "text": [
      "100%|██████████████████████████████████████████| 18/18 [00:00<00:00, 231.45it/s]\n",
      "/Users/kushagraseth/Documents/pvenv/lib/python3.10/site-packages/seqeval/metrics/sequence_labeling.py:171: UserWarning: B_movie seems not to be NE tag.\n",
      "  warnings.warn('{} seems not to be NE tag.'.format(chunk))\n",
      "/Users/kushagraseth/Documents/pvenv/lib/python3.10/site-packages/seqeval/metrics/sequence_labeling.py:171: UserWarning: I_movie seems not to be NE tag.\n",
      "  warnings.warn('{} seems not to be NE tag.'.format(chunk))\n",
      "/Users/kushagraseth/Documents/pvenv/lib/python3.10/site-packages/seqeval/metrics/sequence_labeling.py:171: UserWarning: I_mpaa_rating seems not to be NE tag.\n",
      "  warnings.warn('{} seems not to be NE tag.'.format(chunk))\n",
      "/Users/kushagraseth/Documents/pvenv/lib/python3.10/site-packages/seqeval/metrics/sequence_labeling.py:171: UserWarning: B_country seems not to be NE tag.\n",
      "  warnings.warn('{} seems not to be NE tag.'.format(chunk))\n",
      "/Users/kushagraseth/Documents/pvenv/lib/python3.10/site-packages/seqeval/metrics/sequence_labeling.py:171: UserWarning: B_mpaa_rating seems not to be NE tag.\n",
      "  warnings.warn('{} seems not to be NE tag.'.format(chunk))\n",
      "/Users/kushagraseth/Documents/pvenv/lib/python3.10/site-packages/seqeval/metrics/sequence_labeling.py:171: UserWarning: B_person seems not to be NE tag.\n",
      "  warnings.warn('{} seems not to be NE tag.'.format(chunk))\n",
      "/Users/kushagraseth/Documents/pvenv/lib/python3.10/site-packages/seqeval/metrics/sequence_labeling.py:171: UserWarning: I_person seems not to be NE tag.\n",
      "  warnings.warn('{} seems not to be NE tag.'.format(chunk))\n",
      "/Users/kushagraseth/Documents/pvenv/lib/python3.10/site-packages/seqeval/metrics/sequence_labeling.py:171: UserWarning: B_director seems not to be NE tag.\n",
      "  warnings.warn('{} seems not to be NE tag.'.format(chunk))\n",
      "/Users/kushagraseth/Documents/pvenv/lib/python3.10/site-packages/seqeval/metrics/sequence_labeling.py:171: UserWarning: I_director seems not to be NE tag.\n",
      "  warnings.warn('{} seems not to be NE tag.'.format(chunk))\n",
      "/Users/kushagraseth/Documents/pvenv/lib/python3.10/site-packages/seqeval/metrics/sequence_labeling.py:171: UserWarning: B_producer seems not to be NE tag.\n",
      "  warnings.warn('{} seems not to be NE tag.'.format(chunk))\n",
      "/Users/kushagraseth/Documents/pvenv/lib/python3.10/site-packages/seqeval/metrics/sequence_labeling.py:171: UserWarning: I_producer seems not to be NE tag.\n",
      "  warnings.warn('{} seems not to be NE tag.'.format(chunk))\n",
      "/Users/kushagraseth/Documents/pvenv/lib/python3.10/site-packages/seqeval/metrics/sequence_labeling.py:171: UserWarning: B_language seems not to be NE tag.\n",
      "  warnings.warn('{} seems not to be NE tag.'.format(chunk))\n",
      "/Users/kushagraseth/Documents/pvenv/lib/python3.10/site-packages/seqeval/metrics/sequence_labeling.py:171: UserWarning: B_cast seems not to be NE tag.\n",
      "  warnings.warn('{} seems not to be NE tag.'.format(chunk))\n",
      "/Users/kushagraseth/Documents/pvenv/lib/python3.10/site-packages/seqeval/metrics/sequence_labeling.py:171: UserWarning: I_cast seems not to be NE tag.\n",
      "  warnings.warn('{} seems not to be NE tag.'.format(chunk))\n"
     ]
    },
    {
     "name": "stdout",
     "output_type": "stream",
     "text": [
      "Val Accuracy:  0.9610389610389611\n",
      "Val Loss:  0.19785157301359707\n"
     ]
    },
    {
     "name": "stderr",
     "output_type": "stream",
     "text": [
      "100%|████████████████████████████| 53/53 [00:00<00:00, 111.15it/s, Loss=0.00356]\n"
     ]
    },
    {
     "name": "stdout",
     "output_type": "stream",
     "text": [
      "Train Loss:  0.003997008976477686\n"
     ]
    },
    {
     "name": "stderr",
     "output_type": "stream",
     "text": [
      "100%|██████████████████████████████████████████| 18/18 [00:00<00:00, 247.71it/s]\n",
      "/Users/kushagraseth/Documents/pvenv/lib/python3.10/site-packages/seqeval/metrics/sequence_labeling.py:171: UserWarning: B_genre seems not to be NE tag.\n",
      "  warnings.warn('{} seems not to be NE tag.'.format(chunk))\n",
      "/Users/kushagraseth/Documents/pvenv/lib/python3.10/site-packages/seqeval/metrics/sequence_labeling.py:171: UserWarning: B_release_year seems not to be NE tag.\n",
      "  warnings.warn('{} seems not to be NE tag.'.format(chunk))\n",
      "/Users/kushagraseth/Documents/pvenv/lib/python3.10/site-packages/seqeval/metrics/sequence_labeling.py:171: UserWarning: B_subject seems not to be NE tag.\n",
      "  warnings.warn('{} seems not to be NE tag.'.format(chunk))\n",
      "/Users/kushagraseth/Documents/pvenv/lib/python3.10/site-packages/seqeval/metrics/sequence_labeling.py:171: UserWarning: I_genre seems not to be NE tag.\n",
      "  warnings.warn('{} seems not to be NE tag.'.format(chunk))\n",
      "/Users/kushagraseth/Documents/pvenv/lib/python3.10/site-packages/seqeval/metrics/sequence_labeling.py:171: UserWarning: B_char seems not to be NE tag.\n",
      "  warnings.warn('{} seems not to be NE tag.'.format(chunk))\n"
     ]
    },
    {
     "name": "stdout",
     "output_type": "stream",
     "text": [
      "Val Accuracy:  0.8095238095238095\n",
      "Val Loss:  0.17914690946539244\n"
     ]
    },
    {
     "name": "stderr",
     "output_type": "stream",
     "text": [
      "100%|████████████████████████████| 53/53 [00:00<00:00, 115.27it/s, Loss=3.35e-5]\n"
     ]
    },
    {
     "name": "stdout",
     "output_type": "stream",
     "text": [
      "Train Loss:  0.006360585806245546\n"
     ]
    },
    {
     "name": "stderr",
     "output_type": "stream",
     "text": [
      "100%|██████████████████████████████████████████| 18/18 [00:00<00:00, 246.48it/s]\n",
      "/Users/kushagraseth/Documents/pvenv/lib/python3.10/site-packages/seqeval/metrics/sequence_labeling.py:171: UserWarning: I_char seems not to be NE tag.\n",
      "  warnings.warn('{} seems not to be NE tag.'.format(chunk))\n"
     ]
    },
    {
     "name": "stdout",
     "output_type": "stream",
     "text": [
      "Val Accuracy:  0.8048780487804877\n",
      "Val Loss:  0.19874964783796006\n"
     ]
    },
    {
     "name": "stderr",
     "output_type": "stream",
     "text": [
      "100%|████████████████████████████| 53/53 [00:00<00:00, 115.56it/s, Loss=0.00011]\n"
     ]
    },
    {
     "name": "stdout",
     "output_type": "stream",
     "text": [
      "Train Loss:  0.0021539302526331805\n"
     ]
    },
    {
     "name": "stderr",
     "output_type": "stream",
     "text": [
      "100%|██████████████████████████████████████████| 18/18 [00:00<00:00, 251.76it/s]\n"
     ]
    },
    {
     "name": "stdout",
     "output_type": "stream",
     "text": [
      "Val Accuracy:  0.9230769230769231\n",
      "Val Loss:  0.1727914706700378\n"
     ]
    },
    {
     "name": "stderr",
     "output_type": "stream",
     "text": [
      "100%|███████████████████████████| 53/53 [00:00<00:00, 112.64it/s, Loss=0.000272]\n"
     ]
    },
    {
     "name": "stdout",
     "output_type": "stream",
     "text": [
      "Train Loss:  0.0032644911610437907\n"
     ]
    },
    {
     "name": "stderr",
     "output_type": "stream",
     "text": [
      "100%|██████████████████████████████████████████| 18/18 [00:00<00:00, 257.09it/s]\n",
      "/Users/kushagraseth/Documents/pvenv/lib/python3.10/site-packages/seqeval/metrics/sequence_labeling.py:171: UserWarning: I_country seems not to be NE tag.\n",
      "  warnings.warn('{} seems not to be NE tag.'.format(chunk))\n"
     ]
    },
    {
     "name": "stdout",
     "output_type": "stream",
     "text": [
      "Val Accuracy:  0.9589041095890412\n",
      "Val Loss:  0.1668222633500894\n"
     ]
    },
    {
     "name": "stderr",
     "output_type": "stream",
     "text": [
      "100%|███████████████████████████| 53/53 [00:00<00:00, 117.81it/s, Loss=0.000369]\n"
     ]
    },
    {
     "name": "stdout",
     "output_type": "stream",
     "text": [
      "Train Loss:  0.0023224137648352517\n"
     ]
    },
    {
     "name": "stderr",
     "output_type": "stream",
     "text": [
      "100%|██████████████████████████████████████████| 18/18 [00:00<00:00, 252.22it/s]\n"
     ]
    },
    {
     "name": "stdout",
     "output_type": "stream",
     "text": [
      "Val Accuracy:  0.8947368421052632\n",
      "Val Loss:  0.1633503477399548\n"
     ]
    },
    {
     "name": "stderr",
     "output_type": "stream",
     "text": [
      "100%|████████████████████████████| 53/53 [00:00<00:00, 119.80it/s, Loss=0.00015]\n"
     ]
    },
    {
     "name": "stdout",
     "output_type": "stream",
     "text": [
      "Train Loss:  0.0017877387025400134\n"
     ]
    },
    {
     "name": "stderr",
     "output_type": "stream",
     "text": [
      "100%|██████████████████████████████████████████| 18/18 [00:00<00:00, 274.14it/s]\n",
      "/Users/kushagraseth/Documents/pvenv/lib/python3.10/site-packages/seqeval/metrics/sequence_labeling.py:171: UserWarning: I_subject seems not to be NE tag.\n",
      "  warnings.warn('{} seems not to be NE tag.'.format(chunk))\n"
     ]
    },
    {
     "name": "stdout",
     "output_type": "stream",
     "text": [
      "Val Accuracy:  0.9230769230769231\n",
      "Val Loss:  0.17933209406005013\n"
     ]
    },
    {
     "name": "stderr",
     "output_type": "stream",
     "text": [
      "100%|███████████████████████████| 53/53 [00:00<00:00, 110.84it/s, Loss=0.000341]\n"
     ]
    },
    {
     "name": "stdout",
     "output_type": "stream",
     "text": [
      "Train Loss:  0.001800578800526328\n"
     ]
    },
    {
     "name": "stderr",
     "output_type": "stream",
     "text": [
      "100%|██████████████████████████████████████████| 18/18 [00:00<00:00, 251.72it/s]\n"
     ]
    },
    {
     "name": "stdout",
     "output_type": "stream",
     "text": [
      "Val Accuracy:  0.9230769230769231\n",
      "Val Loss:  0.1906510852277279\n"
     ]
    },
    {
     "name": "stderr",
     "output_type": "stream",
     "text": [
      "100%|████████████████████████████| 53/53 [00:00<00:00, 113.41it/s, Loss=1.75e-5]\n"
     ]
    },
    {
     "name": "stdout",
     "output_type": "stream",
     "text": [
      "Train Loss:  0.0009403254926786209\n"
     ]
    },
    {
     "name": "stderr",
     "output_type": "stream",
     "text": [
      "100%|██████████████████████████████████████████| 18/18 [00:00<00:00, 261.30it/s]\n"
     ]
    },
    {
     "name": "stdout",
     "output_type": "stream",
     "text": [
      "Val Accuracy:  0.9090909090909091\n",
      "Val Loss:  0.17422396089467737\n"
     ]
    },
    {
     "name": "stderr",
     "output_type": "stream",
     "text": [
      "100%|████████████████████████████| 53/53 [00:00<00:00, 114.42it/s, Loss=4.03e-5]\n"
     ]
    },
    {
     "name": "stdout",
     "output_type": "stream",
     "text": [
      "Train Loss:  0.0006220783150226607\n"
     ]
    },
    {
     "name": "stderr",
     "output_type": "stream",
     "text": [
      "100%|██████████████████████████████████████████| 18/18 [00:00<00:00, 262.20it/s]\n"
     ]
    },
    {
     "name": "stdout",
     "output_type": "stream",
     "text": [
      "Val Accuracy:  0.9249999999999999\n",
      "Val Loss:  0.18171133287250996\n"
     ]
    },
    {
     "name": "stderr",
     "output_type": "stream",
     "text": [
      "100%|████████████████████████████| 53/53 [00:00<00:00, 118.58it/s, Loss=3.65e-5]\n"
     ]
    },
    {
     "name": "stdout",
     "output_type": "stream",
     "text": [
      "Train Loss:  0.0006458462575605119\n"
     ]
    },
    {
     "name": "stderr",
     "output_type": "stream",
     "text": [
      "100%|██████████████████████████████████████████| 18/18 [00:00<00:00, 266.94it/s]\n"
     ]
    },
    {
     "name": "stdout",
     "output_type": "stream",
     "text": [
      "Val Accuracy:  0.9863013698630138\n",
      "Val Loss:  0.18749309983104467\n"
     ]
    },
    {
     "name": "stderr",
     "output_type": "stream",
     "text": [
      "100%|████████████████████████████| 53/53 [00:00<00:00, 118.50it/s, Loss=1.91e-5]\n"
     ]
    },
    {
     "name": "stdout",
     "output_type": "stream",
     "text": [
      "Train Loss:  0.00033016104598058483\n"
     ]
    },
    {
     "name": "stderr",
     "output_type": "stream",
     "text": [
      "100%|██████████████████████████████████████████| 18/18 [00:00<00:00, 264.13it/s]\n"
     ]
    },
    {
     "name": "stdout",
     "output_type": "stream",
     "text": [
      "Val Accuracy:  0.9210526315789473\n",
      "Val Loss:  0.17444929832385647\n"
     ]
    },
    {
     "name": "stderr",
     "output_type": "stream",
     "text": [
      "100%|████████████████████████████| 53/53 [00:00<00:00, 117.72it/s, Loss=4.37e-5]\n"
     ]
    },
    {
     "name": "stdout",
     "output_type": "stream",
     "text": [
      "Train Loss:  0.00028425019198313647\n"
     ]
    },
    {
     "name": "stderr",
     "output_type": "stream",
     "text": [
      "100%|██████████████████████████████████████████| 18/18 [00:00<00:00, 253.34it/s]\n"
     ]
    },
    {
     "name": "stdout",
     "output_type": "stream",
     "text": [
      "Val Accuracy:  0.9333333333333332\n",
      "Val Loss:  0.18498613892330062\n"
     ]
    },
    {
     "name": "stderr",
     "output_type": "stream",
     "text": [
      "100%|████████████████████████████| 53/53 [00:00<00:00, 119.34it/s, Loss=3.51e-5]\n"
     ]
    },
    {
     "name": "stdout",
     "output_type": "stream",
     "text": [
      "Train Loss:  0.0003305662546994907\n"
     ]
    },
    {
     "name": "stderr",
     "output_type": "stream",
     "text": [
      "100%|██████████████████████████████████████████| 18/18 [00:00<00:00, 261.56it/s]\n",
      "/Users/kushagraseth/Documents/pvenv/lib/python3.10/site-packages/seqeval/metrics/sequence_labeling.py:171: UserWarning: I_language seems not to be NE tag.\n",
      "  warnings.warn('{} seems not to be NE tag.'.format(chunk))\n"
     ]
    },
    {
     "name": "stdout",
     "output_type": "stream",
     "text": [
      "Val Accuracy:  0.9333333333333332\n",
      "Val Loss:  0.1813600468966696\n"
     ]
    },
    {
     "name": "stderr",
     "output_type": "stream",
     "text": [
      "100%|████████████████████████████| 53/53 [00:00<00:00, 118.82it/s, Loss=3.67e-5]\n"
     ]
    },
    {
     "name": "stdout",
     "output_type": "stream",
     "text": [
      "Train Loss:  0.00028283749175246175\n"
     ]
    },
    {
     "name": "stderr",
     "output_type": "stream",
     "text": [
      "100%|██████████████████████████████████████████| 18/18 [00:00<00:00, 258.04it/s]\n"
     ]
    },
    {
     "name": "stdout",
     "output_type": "stream",
     "text": [
      "Val Accuracy:  0.9599999999999999\n",
      "Val Loss:  0.16938584701468548\n"
     ]
    },
    {
     "name": "stderr",
     "output_type": "stream",
     "text": [
      "100%|████████████████████████████| 53/53 [00:00<00:00, 114.50it/s, Loss=1.81e-5]\n"
     ]
    },
    {
     "name": "stdout",
     "output_type": "stream",
     "text": [
      "Train Loss:  0.0002530244787178746\n"
     ]
    },
    {
     "name": "stderr",
     "output_type": "stream",
     "text": [
      "100%|██████████████████████████████████████████| 18/18 [00:00<00:00, 258.04it/s]\n"
     ]
    },
    {
     "name": "stdout",
     "output_type": "stream",
     "text": [
      "Val Accuracy:  0.918918918918919\n",
      "Val Loss:  0.18891659741186434\n"
     ]
    },
    {
     "name": "stderr",
     "output_type": "stream",
     "text": [
      "100%|████████████████████████████| 53/53 [00:00<00:00, 118.34it/s, Loss=1.34e-5]\n"
     ]
    },
    {
     "name": "stdout",
     "output_type": "stream",
     "text": [
      "Train Loss:  0.0002321450745357823\n"
     ]
    },
    {
     "name": "stderr",
     "output_type": "stream",
     "text": [
      "100%|██████████████████████████████████████████| 18/18 [00:00<00:00, 254.66it/s]\n"
     ]
    },
    {
     "name": "stdout",
     "output_type": "stream",
     "text": [
      "Val Accuracy:  0.9166666666666666\n",
      "Val Loss:  0.1734922043979168\n"
     ]
    },
    {
     "name": "stderr",
     "output_type": "stream",
     "text": [
      "100%|████████████████████████████| 53/53 [00:00<00:00, 117.49it/s, Loss=1.96e-5]\n"
     ]
    },
    {
     "name": "stdout",
     "output_type": "stream",
     "text": [
      "Train Loss:  0.0002729705306849627\n"
     ]
    },
    {
     "name": "stderr",
     "output_type": "stream",
     "text": [
      "100%|██████████████████████████████████████████| 18/18 [00:00<00:00, 261.09it/s]\n"
     ]
    },
    {
     "name": "stdout",
     "output_type": "stream",
     "text": [
      "Val Accuracy:  0.9473684210526315\n",
      "Val Loss:  0.18582992752393088\n"
     ]
    },
    {
     "name": "stderr",
     "output_type": "stream",
     "text": [
      "100%|████████████████████████████| 53/53 [00:00<00:00, 118.01it/s, Loss=2.28e-5]\n"
     ]
    },
    {
     "name": "stdout",
     "output_type": "stream",
     "text": [
      "Train Loss:  0.0002486414618084931\n"
     ]
    },
    {
     "name": "stderr",
     "output_type": "stream",
     "text": [
      "100%|██████████████████████████████████████████| 18/18 [00:00<00:00, 262.35it/s]\n"
     ]
    },
    {
     "name": "stdout",
     "output_type": "stream",
     "text": [
      "Val Accuracy:  0.9210526315789475\n",
      "Val Loss:  0.2018123318751653\n"
     ]
    },
    {
     "name": "stderr",
     "output_type": "stream",
     "text": [
      "100%|████████████████████████████| 53/53 [00:00<00:00, 119.57it/s, Loss=2.16e-5]\n"
     ]
    },
    {
     "name": "stdout",
     "output_type": "stream",
     "text": [
      "Train Loss:  0.0002320865970809877\n"
     ]
    },
    {
     "name": "stderr",
     "output_type": "stream",
     "text": [
      "100%|██████████████████████████████████████████| 18/18 [00:00<00:00, 266.55it/s]\n"
     ]
    },
    {
     "name": "stdout",
     "output_type": "stream",
     "text": [
      "Val Accuracy:  0.9487179487179487\n",
      "Val Loss:  0.17845871340897349\n"
     ]
    },
    {
     "name": "stderr",
     "output_type": "stream",
     "text": [
      "100%|████████████████████████████| 53/53 [00:00<00:00, 119.17it/s, Loss=2.39e-5]\n"
     ]
    },
    {
     "name": "stdout",
     "output_type": "stream",
     "text": [
      "Train Loss:  0.00023169853758825515\n"
     ]
    },
    {
     "name": "stderr",
     "output_type": "stream",
     "text": [
      "100%|██████████████████████████████████████████| 18/18 [00:00<00:00, 248.51it/s]\n"
     ]
    },
    {
     "name": "stdout",
     "output_type": "stream",
     "text": [
      "Val Accuracy:  0.935064935064935\n",
      "Val Loss:  0.17881927494373587\n"
     ]
    },
    {
     "name": "stderr",
     "output_type": "stream",
     "text": [
      "100%|████████████████████████████| 53/53 [00:00<00:00, 119.52it/s, Loss=1.88e-5]\n"
     ]
    },
    {
     "name": "stdout",
     "output_type": "stream",
     "text": [
      "Train Loss:  0.0002621569834394355\n"
     ]
    },
    {
     "name": "stderr",
     "output_type": "stream",
     "text": [
      "100%|██████████████████████████████████████████| 18/18 [00:00<00:00, 247.62it/s]\n"
     ]
    },
    {
     "name": "stdout",
     "output_type": "stream",
     "text": [
      "Val Accuracy:  0.9135802469135802\n",
      "Val Loss:  0.18602592622240385\n"
     ]
    },
    {
     "name": "stderr",
     "output_type": "stream",
     "text": [
      "100%|████████████████████████████| 53/53 [00:00<00:00, 117.64it/s, Loss=0.00288]\n"
     ]
    },
    {
     "name": "stdout",
     "output_type": "stream",
     "text": [
      "Train Loss:  0.00024111702667673767\n"
     ]
    },
    {
     "name": "stderr",
     "output_type": "stream",
     "text": [
      "100%|██████████████████████████████████████████| 18/18 [00:00<00:00, 247.72it/s]\n"
     ]
    },
    {
     "name": "stdout",
     "output_type": "stream",
     "text": [
      "Val Accuracy:  0.9873417721518987\n",
      "Val Loss:  0.17564425374277765\n"
     ]
    },
    {
     "name": "stderr",
     "output_type": "stream",
     "text": [
      "100%|████████████████████████████| 53/53 [00:00<00:00, 115.49it/s, Loss=2.75e-5]\n"
     ]
    },
    {
     "name": "stdout",
     "output_type": "stream",
     "text": [
      "Train Loss:  0.0002294894364000219\n"
     ]
    },
    {
     "name": "stderr",
     "output_type": "stream",
     "text": [
      "100%|██████████████████████████████████████████| 18/18 [00:00<00:00, 259.88it/s]\n"
     ]
    },
    {
     "name": "stdout",
     "output_type": "stream",
     "text": [
      "Val Accuracy:  0.9487179487179487\n",
      "Val Loss:  0.18604204969273674\n"
     ]
    },
    {
     "name": "stderr",
     "output_type": "stream",
     "text": [
      "100%|████████████████████████████| 53/53 [00:00<00:00, 118.87it/s, Loss=1.83e-5]\n"
     ]
    },
    {
     "name": "stdout",
     "output_type": "stream",
     "text": [
      "Train Loss:  0.0002541396544752645\n"
     ]
    },
    {
     "name": "stderr",
     "output_type": "stream",
     "text": [
      "100%|██████████████████████████████████████████| 18/18 [00:00<00:00, 270.66it/s]\n"
     ]
    },
    {
     "name": "stdout",
     "output_type": "stream",
     "text": [
      "Val Accuracy:  0.9230769230769231\n",
      "Val Loss:  0.19821683327770895\n"
     ]
    },
    {
     "name": "stderr",
     "output_type": "stream",
     "text": [
      "100%|████████████████████████████| 53/53 [00:00<00:00, 119.61it/s, Loss=8.43e-6]\n"
     ]
    },
    {
     "name": "stdout",
     "output_type": "stream",
     "text": [
      "Train Loss:  0.0003172250840179913\n"
     ]
    },
    {
     "name": "stderr",
     "output_type": "stream",
     "text": [
      "100%|██████████████████████████████████████████| 18/18 [00:00<00:00, 266.90it/s]\n"
     ]
    },
    {
     "name": "stdout",
     "output_type": "stream",
     "text": [
      "Val Accuracy:  0.8831168831168831\n",
      "Val Loss:  0.18114429319070446\n"
     ]
    },
    {
     "name": "stderr",
     "output_type": "stream",
     "text": [
      "100%|████████████████████████████| 53/53 [00:00<00:00, 121.09it/s, Loss=2.75e-5]\n"
     ]
    },
    {
     "name": "stdout",
     "output_type": "stream",
     "text": [
      "Train Loss:  0.0002217751523489223\n"
     ]
    },
    {
     "name": "stderr",
     "output_type": "stream",
     "text": [
      "100%|██████████████████████████████████████████| 18/18 [00:00<00:00, 269.15it/s]\n"
     ]
    },
    {
     "name": "stdout",
     "output_type": "stream",
     "text": [
      "Val Accuracy:  0.9610389610389611\n",
      "Val Loss:  0.18743739587565264\n"
     ]
    },
    {
     "name": "stderr",
     "output_type": "stream",
     "text": [
      "100%|████████████████████████████| 53/53 [00:00<00:00, 121.21it/s, Loss=1.44e-5]\n"
     ]
    },
    {
     "name": "stdout",
     "output_type": "stream",
     "text": [
      "Train Loss:  0.0002806593283221103\n"
     ]
    },
    {
     "name": "stderr",
     "output_type": "stream",
     "text": [
      "100%|██████████████████████████████████████████| 18/18 [00:00<00:00, 267.60it/s]\n"
     ]
    },
    {
     "name": "stdout",
     "output_type": "stream",
     "text": [
      "Val Accuracy:  0.918918918918919\n",
      "Val Loss:  0.18566499546998078\n"
     ]
    },
    {
     "name": "stderr",
     "output_type": "stream",
     "text": [
      "100%|████████████████████████████| 53/53 [00:00<00:00, 119.81it/s, Loss=2.72e-5]\n"
     ]
    },
    {
     "name": "stdout",
     "output_type": "stream",
     "text": [
      "Train Loss:  0.00024674767366875285\n"
     ]
    },
    {
     "name": "stderr",
     "output_type": "stream",
     "text": [
      "100%|██████████████████████████████████████████| 18/18 [00:00<00:00, 270.55it/s]\n"
     ]
    },
    {
     "name": "stdout",
     "output_type": "stream",
     "text": [
      "Val Accuracy:  0.9333333333333332\n",
      "Val Loss:  0.19093087605304188\n"
     ]
    },
    {
     "name": "stderr",
     "output_type": "stream",
     "text": [
      "100%|████████████████████████████| 53/53 [00:00<00:00, 121.59it/s, Loss=1.44e-5]\n"
     ]
    },
    {
     "name": "stdout",
     "output_type": "stream",
     "text": [
      "Train Loss:  0.00024461848442166776\n"
     ]
    },
    {
     "name": "stderr",
     "output_type": "stream",
     "text": [
      "100%|██████████████████████████████████████████| 18/18 [00:00<00:00, 280.61it/s]\n"
     ]
    },
    {
     "name": "stdout",
     "output_type": "stream",
     "text": [
      "Val Accuracy:  0.9565217391304348\n",
      "Val Loss:  0.19116466927031675\n"
     ]
    },
    {
     "name": "stderr",
     "output_type": "stream",
     "text": [
      "100%|████████████████████████████| 53/53 [00:00<00:00, 120.32it/s, Loss=1.09e-5]\n"
     ]
    },
    {
     "name": "stdout",
     "output_type": "stream",
     "text": [
      "Train Loss:  0.00023596629216626752\n"
     ]
    },
    {
     "name": "stderr",
     "output_type": "stream",
     "text": [
      "100%|██████████████████████████████████████████| 18/18 [00:00<00:00, 270.86it/s]\n"
     ]
    },
    {
     "name": "stdout",
     "output_type": "stream",
     "text": [
      "Val Accuracy:  0.9863013698630138\n",
      "Val Loss:  0.1837585473743578\n"
     ]
    },
    {
     "name": "stderr",
     "output_type": "stream",
     "text": [
      "100%|████████████████████████████| 53/53 [00:00<00:00, 118.76it/s, Loss=2.35e-5]\n"
     ]
    },
    {
     "name": "stdout",
     "output_type": "stream",
     "text": [
      "Train Loss:  0.00022354742686987283\n"
     ]
    },
    {
     "name": "stderr",
     "output_type": "stream",
     "text": [
      "100%|██████████████████████████████████████████| 18/18 [00:00<00:00, 265.33it/s]\n"
     ]
    },
    {
     "name": "stdout",
     "output_type": "stream",
     "text": [
      "Val Accuracy:  0.918918918918919\n",
      "Val Loss:  0.18933053521646392\n"
     ]
    },
    {
     "name": "stderr",
     "output_type": "stream",
     "text": [
      "100%|████████████████████████████| 53/53 [00:00<00:00, 119.48it/s, Loss=6.39e-6]\n"
     ]
    },
    {
     "name": "stdout",
     "output_type": "stream",
     "text": [
      "Train Loss:  0.00025600447589945444\n"
     ]
    },
    {
     "name": "stderr",
     "output_type": "stream",
     "text": [
      "100%|██████████████████████████████████████████| 18/18 [00:00<00:00, 268.30it/s]\n"
     ]
    },
    {
     "name": "stdout",
     "output_type": "stream",
     "text": [
      "Val Accuracy:  0.9066666666666667\n",
      "Val Loss:  0.18753741992016634\n"
     ]
    },
    {
     "name": "stderr",
     "output_type": "stream",
     "text": [
      "100%|████████████████████████████| 53/53 [00:00<00:00, 119.58it/s, Loss=1.33e-5]\n"
     ]
    },
    {
     "name": "stdout",
     "output_type": "stream",
     "text": [
      "Train Loss:  0.0002590265947150809\n"
     ]
    },
    {
     "name": "stderr",
     "output_type": "stream",
     "text": [
      "100%|██████████████████████████████████████████| 18/18 [00:00<00:00, 252.26it/s]\n"
     ]
    },
    {
     "name": "stdout",
     "output_type": "stream",
     "text": [
      "Val Accuracy:  0.9156626506024096\n",
      "Val Loss:  0.19066166463825437\n"
     ]
    },
    {
     "name": "stderr",
     "output_type": "stream",
     "text": [
      "100%|████████████████████████████| 53/53 [00:00<00:00, 120.06it/s, Loss=4.28e-6]\n"
     ]
    },
    {
     "name": "stdout",
     "output_type": "stream",
     "text": [
      "Train Loss:  0.0003070951982683152\n"
     ]
    },
    {
     "name": "stderr",
     "output_type": "stream",
     "text": [
      "100%|██████████████████████████████████████████| 18/18 [00:00<00:00, 256.29it/s]\n"
     ]
    },
    {
     "name": "stdout",
     "output_type": "stream",
     "text": [
      "Val Accuracy:  0.9863013698630138\n",
      "Val Loss:  0.19499991741031408\n"
     ]
    },
    {
     "name": "stderr",
     "output_type": "stream",
     "text": [
      "100%|████████████████████████████| 53/53 [00:00<00:00, 120.40it/s, Loss=1.97e-5]\n"
     ]
    },
    {
     "name": "stdout",
     "output_type": "stream",
     "text": [
      "Train Loss:  0.00024220170828228666\n"
     ]
    },
    {
     "name": "stderr",
     "output_type": "stream",
     "text": [
      "100%|██████████████████████████████████████████| 18/18 [00:00<00:00, 261.45it/s]\n"
     ]
    },
    {
     "name": "stdout",
     "output_type": "stream",
     "text": [
      "Val Accuracy:  0.8767123287671232\n",
      "Val Loss:  0.1918251762787501\n"
     ]
    },
    {
     "name": "stderr",
     "output_type": "stream",
     "text": [
      "100%|████████████████████████████| 53/53 [00:00<00:00, 119.48it/s, Loss=3.75e-6]\n"
     ]
    },
    {
     "name": "stdout",
     "output_type": "stream",
     "text": [
      "Train Loss:  0.00019335964496452297\n"
     ]
    },
    {
     "name": "stderr",
     "output_type": "stream",
     "text": [
      "100%|██████████████████████████████████████████| 18/18 [00:00<00:00, 269.92it/s]\n"
     ]
    },
    {
     "name": "stdout",
     "output_type": "stream",
     "text": [
      "Val Accuracy:  1.0\n",
      "Val Loss:  0.18014053794710586\n"
     ]
    },
    {
     "name": "stderr",
     "output_type": "stream",
     "text": [
      "100%|████████████████████████████| 53/53 [00:00<00:00, 120.30it/s, Loss=4.41e-6]\n"
     ]
    },
    {
     "name": "stdout",
     "output_type": "stream",
     "text": [
      "Train Loss:  0.00024120647896419336\n"
     ]
    },
    {
     "name": "stderr",
     "output_type": "stream",
     "text": [
      "100%|██████████████████████████████████████████| 18/18 [00:00<00:00, 270.95it/s]\n"
     ]
    },
    {
     "name": "stdout",
     "output_type": "stream",
     "text": [
      "Val Accuracy:  0.8974358974358975\n",
      "Val Loss:  0.19432545929319328\n"
     ]
    },
    {
     "name": "stderr",
     "output_type": "stream",
     "text": [
      "100%|████████████████████████████| 53/53 [00:00<00:00, 119.92it/s, Loss=1.15e-5]\n"
     ]
    },
    {
     "name": "stdout",
     "output_type": "stream",
     "text": [
      "Train Loss:  0.00024342283593384463\n"
     ]
    },
    {
     "name": "stderr",
     "output_type": "stream",
     "text": [
      "100%|██████████████████████████████████████████| 18/18 [00:00<00:00, 270.49it/s]\n"
     ]
    },
    {
     "name": "stdout",
     "output_type": "stream",
     "text": [
      "Val Accuracy:  0.9315068493150684\n",
      "Val Loss:  0.19424502758516204\n"
     ]
    },
    {
     "name": "stderr",
     "output_type": "stream",
     "text": [
      "100%|█████████████████████████████| 53/53 [00:00<00:00, 119.45it/s, Loss=0.0155]\n"
     ]
    },
    {
     "name": "stdout",
     "output_type": "stream",
     "text": [
      "Train Loss:  0.0003734222508520138\n"
     ]
    },
    {
     "name": "stderr",
     "output_type": "stream",
     "text": [
      "100%|██████████████████████████████████████████| 18/18 [00:00<00:00, 266.79it/s]\n"
     ]
    },
    {
     "name": "stdout",
     "output_type": "stream",
     "text": [
      "Val Accuracy:  0.9090909090909091\n",
      "Val Loss:  0.21201290749013424\n"
     ]
    },
    {
     "name": "stderr",
     "output_type": "stream",
     "text": [
      "100%|████████████████████████████| 53/53 [00:00<00:00, 122.50it/s, Loss=7.04e-6]\n"
     ]
    },
    {
     "name": "stdout",
     "output_type": "stream",
     "text": [
      "Train Loss:  0.000380984866472678\n"
     ]
    },
    {
     "name": "stderr",
     "output_type": "stream",
     "text": [
      "100%|██████████████████████████████████████████| 18/18 [00:00<00:00, 268.92it/s]\n"
     ]
    },
    {
     "name": "stdout",
     "output_type": "stream",
     "text": [
      "Val Accuracy:  0.9473684210526315\n",
      "Val Loss:  0.1913522072136402\n"
     ]
    },
    {
     "name": "stderr",
     "output_type": "stream",
     "text": [
      "100%|████████████████████████████| 53/53 [00:00<00:00, 120.22it/s, Loss=5.78e-6]\n"
     ]
    },
    {
     "name": "stdout",
     "output_type": "stream",
     "text": [
      "Train Loss:  0.00021654098018961172\n"
     ]
    },
    {
     "name": "stderr",
     "output_type": "stream",
     "text": [
      "100%|██████████████████████████████████████████| 18/18 [00:00<00:00, 272.24it/s]\n"
     ]
    },
    {
     "name": "stdout",
     "output_type": "stream",
     "text": [
      "Val Accuracy:  0.9589041095890412\n",
      "Val Loss:  0.1950040575530794\n"
     ]
    },
    {
     "name": "stderr",
     "output_type": "stream",
     "text": [
      "100%|████████████████████████████| 53/53 [00:00<00:00, 119.40it/s, Loss=6.86e-6]\n"
     ]
    },
    {
     "name": "stdout",
     "output_type": "stream",
     "text": [
      "Train Loss:  0.000316054927933057\n"
     ]
    },
    {
     "name": "stderr",
     "output_type": "stream",
     "text": [
      "100%|██████████████████████████████████████████| 18/18 [00:00<00:00, 266.69it/s]\n"
     ]
    },
    {
     "name": "stdout",
     "output_type": "stream",
     "text": [
      "Val Accuracy:  0.868421052631579\n",
      "Val Loss:  0.19936573546793726\n"
     ]
    },
    {
     "name": "stderr",
     "output_type": "stream",
     "text": [
      "100%|████████████████████████████| 53/53 [00:00<00:00, 120.29it/s, Loss=3.55e-6]\n"
     ]
    },
    {
     "name": "stdout",
     "output_type": "stream",
     "text": [
      "Train Loss:  0.0002499418165130782\n"
     ]
    },
    {
     "name": "stderr",
     "output_type": "stream",
     "text": [
      "100%|██████████████████████████████████████████| 18/18 [00:00<00:00, 274.12it/s]\n"
     ]
    },
    {
     "name": "stdout",
     "output_type": "stream",
     "text": [
      "Val Accuracy:  0.8571428571428572\n",
      "Val Loss:  0.19705914121328127\n"
     ]
    },
    {
     "name": "stderr",
     "output_type": "stream",
     "text": [
      "100%|███████████████████████████████| 53/53 [00:00<00:00, 120.48it/s, Loss=1e-5]\n"
     ]
    },
    {
     "name": "stdout",
     "output_type": "stream",
     "text": [
      "Train Loss:  0.0003499898610089248\n"
     ]
    },
    {
     "name": "stderr",
     "output_type": "stream",
     "text": [
      "100%|██████████████████████████████████████████| 18/18 [00:00<00:00, 264.34it/s]\n"
     ]
    },
    {
     "name": "stdout",
     "output_type": "stream",
     "text": [
      "Val Accuracy:  0.9367088607594937\n",
      "Val Loss:  0.18782709849377474\n"
     ]
    },
    {
     "name": "stderr",
     "output_type": "stream",
     "text": [
      "100%|████████████████████████████| 53/53 [00:00<00:00, 122.02it/s, Loss=3.53e-6]\n"
     ]
    },
    {
     "name": "stdout",
     "output_type": "stream",
     "text": [
      "Train Loss:  0.00027297350012510304\n"
     ]
    },
    {
     "name": "stderr",
     "output_type": "stream",
     "text": [
      "100%|██████████████████████████████████████████| 18/18 [00:00<00:00, 275.39it/s]\n"
     ]
    },
    {
     "name": "stdout",
     "output_type": "stream",
     "text": [
      "Val Accuracy:  0.8717948717948718\n",
      "Val Loss:  0.19555156471000779\n"
     ]
    },
    {
     "name": "stderr",
     "output_type": "stream",
     "text": [
      "100%|████████████████████████████| 53/53 [00:00<00:00, 119.74it/s, Loss=4.94e-6]\n"
     ]
    },
    {
     "name": "stdout",
     "output_type": "stream",
     "text": [
      "Train Loss:  0.0002992316606453659\n"
     ]
    },
    {
     "name": "stderr",
     "output_type": "stream",
     "text": [
      "100%|██████████████████████████████████████████| 18/18 [00:00<00:00, 276.37it/s]\n"
     ]
    },
    {
     "name": "stdout",
     "output_type": "stream",
     "text": [
      "Val Accuracy:  0.8888888888888888\n",
      "Val Loss:  0.214890760059158\n"
     ]
    },
    {
     "name": "stderr",
     "output_type": "stream",
     "text": [
      "100%|████████████████████████████| 53/53 [00:00<00:00, 118.74it/s, Loss=1.11e-5]\n"
     ]
    },
    {
     "name": "stdout",
     "output_type": "stream",
     "text": [
      "Train Loss:  0.00022099786649033495\n"
     ]
    },
    {
     "name": "stderr",
     "output_type": "stream",
     "text": [
      "100%|██████████████████████████████████████████| 18/18 [00:00<00:00, 261.95it/s]\n"
     ]
    },
    {
     "name": "stdout",
     "output_type": "stream",
     "text": [
      "Val Accuracy:  0.9459459459459459\n",
      "Val Loss:  0.1925542037934065\n"
     ]
    },
    {
     "name": "stderr",
     "output_type": "stream",
     "text": [
      "100%|████████████████████████████| 53/53 [00:00<00:00, 120.60it/s, Loss=9.72e-6]\n"
     ]
    },
    {
     "name": "stdout",
     "output_type": "stream",
     "text": [
      "Train Loss:  0.0002618370138381304\n"
     ]
    },
    {
     "name": "stderr",
     "output_type": "stream",
     "text": [
      "100%|██████████████████████████████████████████| 18/18 [00:00<00:00, 264.01it/s]\n"
     ]
    },
    {
     "name": "stdout",
     "output_type": "stream",
     "text": [
      "Val Accuracy:  0.9113924050632911\n",
      "Val Loss:  0.19232920619348684\n"
     ]
    },
    {
     "name": "stderr",
     "output_type": "stream",
     "text": [
      "100%|████████████████████████████| 53/53 [00:00<00:00, 117.82it/s, Loss=7.47e-6]\n"
     ]
    },
    {
     "name": "stdout",
     "output_type": "stream",
     "text": [
      "Train Loss:  0.0002057482919390854\n"
     ]
    },
    {
     "name": "stderr",
     "output_type": "stream",
     "text": [
      "100%|██████████████████████████████████████████| 18/18 [00:00<00:00, 258.31it/s]\n"
     ]
    },
    {
     "name": "stdout",
     "output_type": "stream",
     "text": [
      "Val Accuracy:  0.9230769230769231\n",
      "Val Loss:  0.19340920262038708\n"
     ]
    },
    {
     "name": "stderr",
     "output_type": "stream",
     "text": [
      "100%|████████████████████████████| 53/53 [00:00<00:00, 117.62it/s, Loss=9.91e-6]\n"
     ]
    },
    {
     "name": "stdout",
     "output_type": "stream",
     "text": [
      "Train Loss:  0.0002104157334834558\n"
     ]
    },
    {
     "name": "stderr",
     "output_type": "stream",
     "text": [
      "100%|██████████████████████████████████████████| 18/18 [00:00<00:00, 258.44it/s]\n"
     ]
    },
    {
     "name": "stdout",
     "output_type": "stream",
     "text": [
      "Val Accuracy:  0.935064935064935\n",
      "Val Loss:  0.19489732591642273\n"
     ]
    },
    {
     "name": "stderr",
     "output_type": "stream",
     "text": [
      "100%|████████████████████████████| 53/53 [00:00<00:00, 118.26it/s, Loss=4.65e-6]\n"
     ]
    },
    {
     "name": "stdout",
     "output_type": "stream",
     "text": [
      "Train Loss:  0.0002442183901046451\n"
     ]
    },
    {
     "name": "stderr",
     "output_type": "stream",
     "text": [
      "100%|██████████████████████████████████████████| 18/18 [00:00<00:00, 263.89it/s]\n"
     ]
    },
    {
     "name": "stdout",
     "output_type": "stream",
     "text": [
      "Val Accuracy:  0.9577464788732395\n",
      "Val Loss:  0.19975915737450123\n"
     ]
    },
    {
     "name": "stderr",
     "output_type": "stream",
     "text": [
      "100%|████████████████████████████| 53/53 [00:00<00:00, 119.29it/s, Loss=5.73e-6]\n"
     ]
    },
    {
     "name": "stdout",
     "output_type": "stream",
     "text": [
      "Train Loss:  0.00022270142021367956\n"
     ]
    },
    {
     "name": "stderr",
     "output_type": "stream",
     "text": [
      "100%|██████████████████████████████████████████| 18/18 [00:00<00:00, 270.92it/s]\n"
     ]
    },
    {
     "name": "stdout",
     "output_type": "stream",
     "text": [
      "Val Accuracy:  0.9473684210526315\n",
      "Val Loss:  0.1990835258944167\n"
     ]
    },
    {
     "name": "stderr",
     "output_type": "stream",
     "text": [
      "100%|████████████████████████████| 53/53 [00:00<00:00, 117.08it/s, Loss=3.41e-6]\n"
     ]
    },
    {
     "name": "stdout",
     "output_type": "stream",
     "text": [
      "Train Loss:  0.00033751616743791363\n"
     ]
    },
    {
     "name": "stderr",
     "output_type": "stream",
     "text": [
      "100%|██████████████████████████████████████████| 18/18 [00:00<00:00, 262.49it/s]\n"
     ]
    },
    {
     "name": "stdout",
     "output_type": "stream",
     "text": [
      "Val Accuracy:  0.935064935064935\n",
      "Val Loss:  0.20544973119265503\n"
     ]
    },
    {
     "name": "stderr",
     "output_type": "stream",
     "text": [
      "100%|████████████████████████████| 53/53 [00:00<00:00, 114.86it/s, Loss=5.25e-6]\n"
     ]
    },
    {
     "name": "stdout",
     "output_type": "stream",
     "text": [
      "Train Loss:  0.00024976307854300995\n"
     ]
    },
    {
     "name": "stderr",
     "output_type": "stream",
     "text": [
      "100%|██████████████████████████████████████████| 18/18 [00:00<00:00, 255.88it/s]\n"
     ]
    },
    {
     "name": "stdout",
     "output_type": "stream",
     "text": [
      "Val Accuracy:  0.9863013698630138\n",
      "Val Loss:  0.18922149296849966\n"
     ]
    },
    {
     "name": "stderr",
     "output_type": "stream",
     "text": [
      "100%|█████████████████████████████| 53/53 [00:00<00:00, 118.07it/s, Loss=1.3e-5]\n"
     ]
    },
    {
     "name": "stdout",
     "output_type": "stream",
     "text": [
      "Train Loss:  0.00021179627790474424\n"
     ]
    },
    {
     "name": "stderr",
     "output_type": "stream",
     "text": [
      "100%|██████████████████████████████████████████| 18/18 [00:00<00:00, 263.99it/s]\n"
     ]
    },
    {
     "name": "stdout",
     "output_type": "stream",
     "text": [
      "Val Accuracy:  1.0\n",
      "Val Loss:  0.18331967555503878\n"
     ]
    },
    {
     "name": "stderr",
     "output_type": "stream",
     "text": [
      "100%|████████████████████████████| 53/53 [00:00<00:00, 119.58it/s, Loss=6.01e-6]\n"
     ]
    },
    {
     "name": "stdout",
     "output_type": "stream",
     "text": [
      "Train Loss:  0.00025004177287230977\n"
     ]
    },
    {
     "name": "stderr",
     "output_type": "stream",
     "text": [
      "100%|██████████████████████████████████████████| 18/18 [00:00<00:00, 261.01it/s]\n"
     ]
    },
    {
     "name": "stdout",
     "output_type": "stream",
     "text": [
      "Val Accuracy:  0.9\n",
      "Val Loss:  0.1942834568520387\n"
     ]
    },
    {
     "name": "stderr",
     "output_type": "stream",
     "text": [
      "100%|████████████████████████████| 53/53 [00:00<00:00, 115.27it/s, Loss=7.29e-6]\n"
     ]
    },
    {
     "name": "stdout",
     "output_type": "stream",
     "text": [
      "Train Loss:  0.00027125236264733104\n"
     ]
    },
    {
     "name": "stderr",
     "output_type": "stream",
     "text": [
      "100%|██████████████████████████████████████████| 18/18 [00:00<00:00, 258.58it/s]\n"
     ]
    },
    {
     "name": "stdout",
     "output_type": "stream",
     "text": [
      "Val Accuracy:  0.9113924050632911\n",
      "Val Loss:  0.19352248021297985\n"
     ]
    },
    {
     "name": "stderr",
     "output_type": "stream",
     "text": [
      "100%|█████████████████████████████| 53/53 [00:00<00:00, 116.51it/s, Loss=7.5e-6]\n"
     ]
    },
    {
     "name": "stdout",
     "output_type": "stream",
     "text": [
      "Train Loss:  0.00023095659987189238\n"
     ]
    },
    {
     "name": "stderr",
     "output_type": "stream",
     "text": [
      "100%|██████████████████████████████████████████| 18/18 [00:00<00:00, 244.38it/s]\n"
     ]
    },
    {
     "name": "stdout",
     "output_type": "stream",
     "text": [
      "Val Accuracy:  0.8500000000000001\n",
      "Val Loss:  0.19714049548686793\n"
     ]
    },
    {
     "name": "stderr",
     "output_type": "stream",
     "text": [
      "100%|████████████████████████████| 53/53 [00:00<00:00, 118.21it/s, Loss=1.35e-5]\n"
     ]
    },
    {
     "name": "stdout",
     "output_type": "stream",
     "text": [
      "Train Loss:  0.00019698141369095743\n"
     ]
    },
    {
     "name": "stderr",
     "output_type": "stream",
     "text": [
      "100%|██████████████████████████████████████████| 18/18 [00:00<00:00, 273.78it/s]\n"
     ]
    },
    {
     "name": "stdout",
     "output_type": "stream",
     "text": [
      "Val Accuracy:  0.9736842105263158\n",
      "Val Loss:  0.21757905392183197\n"
     ]
    },
    {
     "name": "stderr",
     "output_type": "stream",
     "text": [
      "100%|████████████████████████████| 53/53 [00:00<00:00, 119.00it/s, Loss=4.36e-6]\n"
     ]
    },
    {
     "name": "stdout",
     "output_type": "stream",
     "text": [
      "Train Loss:  0.0002569492682278854\n"
     ]
    },
    {
     "name": "stderr",
     "output_type": "stream",
     "text": [
      "100%|██████████████████████████████████████████| 18/18 [00:00<00:00, 264.24it/s]\n"
     ]
    },
    {
     "name": "stdout",
     "output_type": "stream",
     "text": [
      "Val Accuracy:  0.9743589743589743\n",
      "Val Loss:  0.1979375502301587\n"
     ]
    },
    {
     "name": "stderr",
     "output_type": "stream",
     "text": [
      "100%|█████████████████████████████| 53/53 [00:00<00:00, 116.78it/s, Loss=4.1e-6]\n"
     ]
    },
    {
     "name": "stdout",
     "output_type": "stream",
     "text": [
      "Train Loss:  0.00021426475884151651\n"
     ]
    },
    {
     "name": "stderr",
     "output_type": "stream",
     "text": [
      "100%|██████████████████████████████████████████| 18/18 [00:00<00:00, 259.28it/s]\n"
     ]
    },
    {
     "name": "stdout",
     "output_type": "stream",
     "text": [
      "Val Accuracy:  0.9599999999999999\n",
      "Val Loss:  0.19156154183049998\n"
     ]
    },
    {
     "name": "stderr",
     "output_type": "stream",
     "text": [
      "100%|████████████████████████████| 53/53 [00:00<00:00, 119.73it/s, Loss=3.22e-6]\n"
     ]
    },
    {
     "name": "stdout",
     "output_type": "stream",
     "text": [
      "Train Loss:  0.0002512908661388655\n"
     ]
    },
    {
     "name": "stderr",
     "output_type": "stream",
     "text": [
      "100%|██████████████████████████████████████████| 18/18 [00:00<00:00, 263.80it/s]\n"
     ]
    },
    {
     "name": "stdout",
     "output_type": "stream",
     "text": [
      "Val Accuracy:  0.9500000000000001\n",
      "Val Loss:  0.2044678528068794\n"
     ]
    },
    {
     "name": "stderr",
     "output_type": "stream",
     "text": [
      "100%|████████████████████████████| 53/53 [00:00<00:00, 120.59it/s, Loss=7.07e-6]\n"
     ]
    },
    {
     "name": "stdout",
     "output_type": "stream",
     "text": [
      "Train Loss:  0.0002783925207225211\n"
     ]
    },
    {
     "name": "stderr",
     "output_type": "stream",
     "text": [
      "100%|██████████████████████████████████████████| 18/18 [00:00<00:00, 264.48it/s]\n"
     ]
    },
    {
     "name": "stdout",
     "output_type": "stream",
     "text": [
      "Val Accuracy:  0.9866666666666666\n",
      "Val Loss:  0.1932328820435537\n"
     ]
    },
    {
     "name": "stderr",
     "output_type": "stream",
     "text": [
      "100%|████████████████████████████| 53/53 [00:00<00:00, 120.53it/s, Loss=3.51e-6]\n"
     ]
    },
    {
     "name": "stdout",
     "output_type": "stream",
     "text": [
      "Train Loss:  0.00019429835905191553\n"
     ]
    },
    {
     "name": "stderr",
     "output_type": "stream",
     "text": [
      "100%|██████████████████████████████████████████| 18/18 [00:00<00:00, 271.62it/s]\n"
     ]
    },
    {
     "name": "stdout",
     "output_type": "stream",
     "text": [
      "Val Accuracy:  0.8947368421052632\n",
      "Val Loss:  0.20838266921540102\n"
     ]
    },
    {
     "name": "stderr",
     "output_type": "stream",
     "text": [
      "100%|████████████████████████████| 53/53 [00:00<00:00, 118.77it/s, Loss=6.62e-6]\n"
     ]
    },
    {
     "name": "stdout",
     "output_type": "stream",
     "text": [
      "Train Loss:  0.00024561560561744283\n"
     ]
    },
    {
     "name": "stderr",
     "output_type": "stream",
     "text": [
      "100%|██████████████████████████████████████████| 18/18 [00:00<00:00, 275.43it/s]\n"
     ]
    },
    {
     "name": "stdout",
     "output_type": "stream",
     "text": [
      "Val Accuracy:  0.9610389610389611\n",
      "Val Loss:  0.20851129852235317\n"
     ]
    },
    {
     "name": "stderr",
     "output_type": "stream",
     "text": [
      "100%|█████████████████████████████| 53/53 [00:00<00:00, 116.17it/s, Loss=3.6e-6]\n"
     ]
    },
    {
     "name": "stdout",
     "output_type": "stream",
     "text": [
      "Train Loss:  0.0002739431020296801\n"
     ]
    },
    {
     "name": "stderr",
     "output_type": "stream",
     "text": [
      "100%|██████████████████████████████████████████| 18/18 [00:00<00:00, 262.75it/s]\n"
     ]
    },
    {
     "name": "stdout",
     "output_type": "stream",
     "text": [
      "Val Accuracy:  0.8860759493670887\n",
      "Val Loss:  0.20177498273551464\n"
     ]
    },
    {
     "name": "stderr",
     "output_type": "stream",
     "text": [
      "100%|█████████████████████████████| 53/53 [00:00<00:00, 118.71it/s, Loss=2.8e-6]\n"
     ]
    },
    {
     "name": "stdout",
     "output_type": "stream",
     "text": [
      "Train Loss:  0.00020957872846527194\n"
     ]
    },
    {
     "name": "stderr",
     "output_type": "stream",
     "text": [
      "100%|██████████████████████████████████████████| 18/18 [00:00<00:00, 279.44it/s]\n"
     ]
    },
    {
     "name": "stdout",
     "output_type": "stream",
     "text": [
      "Val Accuracy:  0.9230769230769231\n",
      "Val Loss:  0.21800564270880488\n"
     ]
    },
    {
     "name": "stderr",
     "output_type": "stream",
     "text": [
      "100%|████████████████████████████| 53/53 [00:00<00:00, 116.82it/s, Loss=2.13e-6]\n"
     ]
    },
    {
     "name": "stdout",
     "output_type": "stream",
     "text": [
      "Train Loss:  0.00028643438206429737\n"
     ]
    },
    {
     "name": "stderr",
     "output_type": "stream",
     "text": [
      "100%|██████████████████████████████████████████| 18/18 [00:00<00:00, 270.39it/s]\n"
     ]
    },
    {
     "name": "stdout",
     "output_type": "stream",
     "text": [
      "Val Accuracy:  0.918918918918919\n",
      "Val Loss:  0.19912691993845832\n"
     ]
    },
    {
     "name": "stderr",
     "output_type": "stream",
     "text": [
      "100%|████████████████████████████| 53/53 [00:00<00:00, 120.91it/s, Loss=3.14e-6]\n"
     ]
    },
    {
     "name": "stdout",
     "output_type": "stream",
     "text": [
      "Train Loss:  0.00024071655321411114\n"
     ]
    },
    {
     "name": "stderr",
     "output_type": "stream",
     "text": [
      "100%|██████████████████████████████████████████| 18/18 [00:00<00:00, 261.20it/s]\n"
     ]
    },
    {
     "name": "stdout",
     "output_type": "stream",
     "text": [
      "Val Accuracy:  0.9230769230769231\n",
      "Val Loss:  0.18986925648318398\n"
     ]
    },
    {
     "name": "stderr",
     "output_type": "stream",
     "text": [
      "100%|████████████████████████████| 53/53 [00:00<00:00, 120.33it/s, Loss=8.71e-6]\n"
     ]
    },
    {
     "name": "stdout",
     "output_type": "stream",
     "text": [
      "Train Loss:  0.0002712678947404438\n"
     ]
    },
    {
     "name": "stderr",
     "output_type": "stream",
     "text": [
      "100%|██████████████████████████████████████████| 18/18 [00:00<00:00, 275.27it/s]\n"
     ]
    },
    {
     "name": "stdout",
     "output_type": "stream",
     "text": [
      "Val Accuracy:  0.8809523809523809\n",
      "Val Loss:  0.20035663097062045\n"
     ]
    },
    {
     "name": "stderr",
     "output_type": "stream",
     "text": [
      "100%|████████████████████████████| 53/53 [00:00<00:00, 120.30it/s, Loss=3.21e-6]\n"
     ]
    },
    {
     "name": "stdout",
     "output_type": "stream",
     "text": [
      "Train Loss:  0.00020104884978073247\n"
     ]
    },
    {
     "name": "stderr",
     "output_type": "stream",
     "text": [
      "100%|██████████████████████████████████████████| 18/18 [00:00<00:00, 277.42it/s]\n"
     ]
    },
    {
     "name": "stdout",
     "output_type": "stream",
     "text": [
      "Val Accuracy:  0.9135802469135802\n",
      "Val Loss:  0.1953403847809467\n"
     ]
    },
    {
     "name": "stderr",
     "output_type": "stream",
     "text": [
      "100%|████████████████████████████| 53/53 [00:00<00:00, 119.71it/s, Loss=0.00427]\n"
     ]
    },
    {
     "name": "stdout",
     "output_type": "stream",
     "text": [
      "Train Loss:  0.0002344636253610588\n"
     ]
    },
    {
     "name": "stderr",
     "output_type": "stream",
     "text": [
      "100%|██████████████████████████████████████████| 18/18 [00:00<00:00, 268.84it/s]\n"
     ]
    },
    {
     "name": "stdout",
     "output_type": "stream",
     "text": [
      "Val Accuracy:  0.9230769230769231\n",
      "Val Loss:  0.20596013425125015\n"
     ]
    },
    {
     "name": "stderr",
     "output_type": "stream",
     "text": [
      "100%|████████████████████████████| 53/53 [00:00<00:00, 116.17it/s, Loss=1.68e-6]\n"
     ]
    },
    {
     "name": "stdout",
     "output_type": "stream",
     "text": [
      "Train Loss:  0.00026567612608790304\n"
     ]
    },
    {
     "name": "stderr",
     "output_type": "stream",
     "text": [
      "100%|██████████████████████████████████████████| 18/18 [00:00<00:00, 242.55it/s]\n"
     ]
    },
    {
     "name": "stdout",
     "output_type": "stream",
     "text": [
      "Val Accuracy:  0.9873417721518987\n",
      "Val Loss:  0.19380931970145968\n"
     ]
    },
    {
     "name": "stderr",
     "output_type": "stream",
     "text": [
      "100%|████████████████████████████| 53/53 [00:00<00:00, 119.91it/s, Loss=2.89e-6]\n"
     ]
    },
    {
     "name": "stdout",
     "output_type": "stream",
     "text": [
      "Train Loss:  0.0001983044839223438\n"
     ]
    },
    {
     "name": "stderr",
     "output_type": "stream",
     "text": [
      "100%|██████████████████████████████████████████| 18/18 [00:00<00:00, 255.28it/s]\n"
     ]
    },
    {
     "name": "stdout",
     "output_type": "stream",
     "text": [
      "Val Accuracy:  0.8461538461538461\n",
      "Val Loss:  0.20199464137355486\n"
     ]
    },
    {
     "name": "stderr",
     "output_type": "stream",
     "text": [
      "100%|████████████████████████████| 53/53 [00:00<00:00, 118.90it/s, Loss=1.62e-6]\n"
     ]
    },
    {
     "name": "stdout",
     "output_type": "stream",
     "text": [
      "Train Loss:  0.00025033974031456\n"
     ]
    },
    {
     "name": "stderr",
     "output_type": "stream",
     "text": [
      "100%|██████████████████████████████████████████| 18/18 [00:00<00:00, 265.19it/s]\n"
     ]
    },
    {
     "name": "stdout",
     "output_type": "stream",
     "text": [
      "Val Accuracy:  0.9253731343283583\n",
      "Val Loss:  0.20314228451914257\n"
     ]
    },
    {
     "name": "stderr",
     "output_type": "stream",
     "text": [
      "100%|████████████████████████████| 53/53 [00:00<00:00, 119.07it/s, Loss=1.85e-6]\n"
     ]
    },
    {
     "name": "stdout",
     "output_type": "stream",
     "text": [
      "Train Loss:  0.0002756064220626663\n"
     ]
    },
    {
     "name": "stderr",
     "output_type": "stream",
     "text": [
      "100%|██████████████████████████████████████████| 18/18 [00:00<00:00, 262.31it/s]\n"
     ]
    },
    {
     "name": "stdout",
     "output_type": "stream",
     "text": [
      "Val Accuracy:  0.9367088607594937\n",
      "Val Loss:  0.19536062909497154\n"
     ]
    },
    {
     "name": "stderr",
     "output_type": "stream",
     "text": [
      "100%|████████████████████████████| 53/53 [00:00<00:00, 118.30it/s, Loss=2.34e-6]\n"
     ]
    },
    {
     "name": "stdout",
     "output_type": "stream",
     "text": [
      "Train Loss:  0.00021140058288438013\n"
     ]
    },
    {
     "name": "stderr",
     "output_type": "stream",
     "text": [
      "100%|██████████████████████████████████████████| 18/18 [00:00<00:00, 269.80it/s]\n"
     ]
    },
    {
     "name": "stdout",
     "output_type": "stream",
     "text": [
      "Val Accuracy:  0.972972972972973\n",
      "Val Loss:  0.20679697870380348\n"
     ]
    },
    {
     "name": "stderr",
     "output_type": "stream",
     "text": [
      "100%|████████████████████████████| 53/53 [00:00<00:00, 114.27it/s, Loss=1.62e-6]\n"
     ]
    },
    {
     "name": "stdout",
     "output_type": "stream",
     "text": [
      "Train Loss:  0.00028610633136446815\n"
     ]
    },
    {
     "name": "stderr",
     "output_type": "stream",
     "text": [
      "100%|██████████████████████████████████████████| 18/18 [00:00<00:00, 261.49it/s]\n"
     ]
    },
    {
     "name": "stdout",
     "output_type": "stream",
     "text": [
      "Val Accuracy:  0.9367088607594937\n",
      "Val Loss:  0.21137266067994964\n"
     ]
    },
    {
     "name": "stderr",
     "output_type": "stream",
     "text": [
      "100%|████████████████████████████| 53/53 [00:00<00:00, 119.77it/s, Loss=1.75e-6]\n"
     ]
    },
    {
     "name": "stdout",
     "output_type": "stream",
     "text": [
      "Train Loss:  0.00024091135728581921\n"
     ]
    },
    {
     "name": "stderr",
     "output_type": "stream",
     "text": [
      "100%|██████████████████████████████████████████| 18/18 [00:00<00:00, 268.03it/s]\n"
     ]
    },
    {
     "name": "stdout",
     "output_type": "stream",
     "text": [
      "Val Accuracy:  0.9866666666666666\n",
      "Val Loss:  0.17817978892061445\n"
     ]
    },
    {
     "name": "stderr",
     "output_type": "stream",
     "text": [
      "100%|█████████████████████████████| 53/53 [00:00<00:00, 119.52it/s, Loss=3.3e-6]\n"
     ]
    },
    {
     "name": "stdout",
     "output_type": "stream",
     "text": [
      "Train Loss:  0.0003035453579406817\n"
     ]
    },
    {
     "name": "stderr",
     "output_type": "stream",
     "text": [
      "100%|██████████████████████████████████████████| 18/18 [00:00<00:00, 267.18it/s]\n"
     ]
    },
    {
     "name": "stdout",
     "output_type": "stream",
     "text": [
      "Val Accuracy:  0.88\n",
      "Val Loss:  0.21099157207128075\n"
     ]
    },
    {
     "name": "stderr",
     "output_type": "stream",
     "text": [
      "100%|████████████████████████████| 53/53 [00:00<00:00, 118.37it/s, Loss=2.33e-6]\n"
     ]
    },
    {
     "name": "stdout",
     "output_type": "stream",
     "text": [
      "Train Loss:  0.00019904730446204717\n"
     ]
    },
    {
     "name": "stderr",
     "output_type": "stream",
     "text": [
      "100%|██████████████████████████████████████████| 18/18 [00:00<00:00, 261.99it/s]\n"
     ]
    },
    {
     "name": "stdout",
     "output_type": "stream",
     "text": [
      "Val Accuracy:  0.9090909090909091\n",
      "Val Loss:  0.18668986815545294\n"
     ]
    },
    {
     "name": "stderr",
     "output_type": "stream",
     "text": [
      "100%|████████████████████████████| 53/53 [00:00<00:00, 118.77it/s, Loss=1.27e-6]\n"
     ]
    },
    {
     "name": "stdout",
     "output_type": "stream",
     "text": [
      "Train Loss:  0.0002367030370110887\n"
     ]
    },
    {
     "name": "stderr",
     "output_type": "stream",
     "text": [
      "100%|██████████████████████████████████████████| 18/18 [00:00<00:00, 262.93it/s]\n"
     ]
    },
    {
     "name": "stdout",
     "output_type": "stream",
     "text": [
      "Val Accuracy:  0.8292682926829269\n",
      "Val Loss:  0.2143035869424542\n"
     ]
    },
    {
     "name": "stderr",
     "output_type": "stream",
     "text": [
      "100%|████████████████████████████| 53/53 [00:00<00:00, 114.78it/s, Loss=0.00263]\n"
     ]
    },
    {
     "name": "stdout",
     "output_type": "stream",
     "text": [
      "Train Loss:  0.00020666046620315787\n"
     ]
    },
    {
     "name": "stderr",
     "output_type": "stream",
     "text": [
      "100%|██████████████████████████████████████████| 18/18 [00:00<00:00, 261.42it/s]\n"
     ]
    },
    {
     "name": "stdout",
     "output_type": "stream",
     "text": [
      "Val Accuracy:  0.9876543209876543\n",
      "Val Loss:  0.19524316717353132\n"
     ]
    },
    {
     "name": "stderr",
     "output_type": "stream",
     "text": [
      "100%|████████████████████████████| 53/53 [00:00<00:00, 114.51it/s, Loss=0.00558]\n"
     ]
    },
    {
     "name": "stdout",
     "output_type": "stream",
     "text": [
      "Train Loss:  0.00031030045324812063\n"
     ]
    },
    {
     "name": "stderr",
     "output_type": "stream",
     "text": [
      "100%|██████████████████████████████████████████| 18/18 [00:00<00:00, 258.88it/s]\n"
     ]
    },
    {
     "name": "stdout",
     "output_type": "stream",
     "text": [
      "Val Accuracy:  0.9473684210526315\n",
      "Val Loss:  0.20059309299621317\n"
     ]
    },
    {
     "name": "stderr",
     "output_type": "stream",
     "text": [
      "100%|████████████████████████████| 53/53 [00:00<00:00, 117.71it/s, Loss=2.76e-6]\n"
     ]
    },
    {
     "name": "stdout",
     "output_type": "stream",
     "text": [
      "Train Loss:  0.00021012561437343702\n"
     ]
    },
    {
     "name": "stderr",
     "output_type": "stream",
     "text": [
      "100%|██████████████████████████████████████████| 18/18 [00:00<00:00, 259.56it/s]\n"
     ]
    },
    {
     "name": "stdout",
     "output_type": "stream",
     "text": [
      "Val Accuracy:  0.9459459459459459\n",
      "Val Loss:  0.20543849757976002\n"
     ]
    },
    {
     "name": "stderr",
     "output_type": "stream",
     "text": [
      "100%|████████████████████████████| 53/53 [00:00<00:00, 116.08it/s, Loss=1.95e-6]\n"
     ]
    },
    {
     "name": "stdout",
     "output_type": "stream",
     "text": [
      "Train Loss:  0.00022167208022172004\n"
     ]
    },
    {
     "name": "stderr",
     "output_type": "stream",
     "text": [
      "100%|██████████████████████████████████████████| 18/18 [00:00<00:00, 263.74it/s]\n"
     ]
    },
    {
     "name": "stdout",
     "output_type": "stream",
     "text": [
      "Val Accuracy:  0.8831168831168831\n",
      "Val Loss:  0.20381114062749678\n"
     ]
    },
    {
     "name": "stderr",
     "output_type": "stream",
     "text": [
      "100%|████████████████████████████| 53/53 [00:00<00:00, 118.23it/s, Loss=4.18e-6]\n"
     ]
    },
    {
     "name": "stdout",
     "output_type": "stream",
     "text": [
      "Train Loss:  0.00020886942988716087\n"
     ]
    },
    {
     "name": "stderr",
     "output_type": "stream",
     "text": [
      "100%|██████████████████████████████████████████| 18/18 [00:00<00:00, 263.40it/s]\n"
     ]
    },
    {
     "name": "stdout",
     "output_type": "stream",
     "text": [
      "Val Accuracy:  0.9577464788732395\n",
      "Val Loss:  0.22587374059690368\n"
     ]
    },
    {
     "name": "stderr",
     "output_type": "stream",
     "text": [
      "100%|████████████████████████████| 53/53 [00:00<00:00, 113.05it/s, Loss=1.01e-6]\n"
     ]
    },
    {
     "name": "stdout",
     "output_type": "stream",
     "text": [
      "Train Loss:  0.00025242442478549563\n"
     ]
    },
    {
     "name": "stderr",
     "output_type": "stream",
     "text": [
      "100%|██████████████████████████████████████████| 18/18 [00:00<00:00, 252.58it/s]\n"
     ]
    },
    {
     "name": "stdout",
     "output_type": "stream",
     "text": [
      "Val Accuracy:  0.9382716049382716\n",
      "Val Loss:  0.206343749175883\n"
     ]
    },
    {
     "name": "stderr",
     "output_type": "stream",
     "text": [
      "100%|████████████████████████████| 53/53 [00:00<00:00, 118.24it/s, Loss=1.32e-6]\n"
     ]
    },
    {
     "name": "stdout",
     "output_type": "stream",
     "text": [
      "Train Loss:  0.00026953507632941973\n"
     ]
    },
    {
     "name": "stderr",
     "output_type": "stream",
     "text": [
      "100%|██████████████████████████████████████████| 18/18 [00:00<00:00, 253.67it/s]\n",
      "/Users/kushagraseth/Documents/pvenv/lib/python3.10/site-packages/seqeval/metrics/sequence_labeling.py:171: UserWarning: B_location seems not to be NE tag.\n",
      "  warnings.warn('{} seems not to be NE tag.'.format(chunk))\n"
     ]
    },
    {
     "name": "stdout",
     "output_type": "stream",
     "text": [
      "Val Accuracy:  0.9722222222222222\n",
      "Val Loss:  0.2033305230240027\n"
     ]
    },
    {
     "name": "stderr",
     "output_type": "stream",
     "text": [
      "100%|████████████████████████████| 53/53 [00:00<00:00, 118.59it/s, Loss=1.89e-6]\n"
     ]
    },
    {
     "name": "stdout",
     "output_type": "stream",
     "text": [
      "Train Loss:  0.00036947857785958577\n"
     ]
    },
    {
     "name": "stderr",
     "output_type": "stream",
     "text": [
      "100%|██████████████████████████████████████████| 18/18 [00:00<00:00, 267.04it/s]\n"
     ]
    },
    {
     "name": "stdout",
     "output_type": "stream",
     "text": [
      "Val Accuracy:  0.9230769230769231\n",
      "Val Loss:  0.20377956413560444\n"
     ]
    },
    {
     "name": "stderr",
     "output_type": "stream",
     "text": [
      "100%|████████████████████████████| 53/53 [00:00<00:00, 118.63it/s, Loss=1.48e-6]\n"
     ]
    },
    {
     "name": "stdout",
     "output_type": "stream",
     "text": [
      "Train Loss:  0.00024123272648149345\n"
     ]
    },
    {
     "name": "stderr",
     "output_type": "stream",
     "text": [
      "100%|██████████████████████████████████████████| 18/18 [00:00<00:00, 261.96it/s]\n"
     ]
    },
    {
     "name": "stdout",
     "output_type": "stream",
     "text": [
      "Val Accuracy:  0.875\n",
      "Val Loss:  0.2201487466485964\n"
     ]
    },
    {
     "name": "stderr",
     "output_type": "stream",
     "text": [
      "100%|████████████████████████████| 53/53 [00:00<00:00, 119.94it/s, Loss=1.13e-6]\n"
     ]
    },
    {
     "name": "stdout",
     "output_type": "stream",
     "text": [
      "Train Loss:  0.00017207804088971933\n"
     ]
    },
    {
     "name": "stderr",
     "output_type": "stream",
     "text": [
      "100%|██████████████████████████████████████████| 18/18 [00:00<00:00, 265.43it/s]\n"
     ]
    },
    {
     "name": "stdout",
     "output_type": "stream",
     "text": [
      "Val Accuracy:  0.8974358974358975\n",
      "Val Loss:  0.20724159189396435\n"
     ]
    },
    {
     "name": "stderr",
     "output_type": "stream",
     "text": [
      "100%|████████████████████████████| 53/53 [00:00<00:00, 119.18it/s, Loss=1.87e-6]\n"
     ]
    },
    {
     "name": "stdout",
     "output_type": "stream",
     "text": [
      "Train Loss:  0.0002493967410549336\n"
     ]
    },
    {
     "name": "stderr",
     "output_type": "stream",
     "text": [
      "100%|██████████████████████████████████████████| 18/18 [00:00<00:00, 264.93it/s]\n"
     ]
    },
    {
     "name": "stdout",
     "output_type": "stream",
     "text": [
      "Val Accuracy:  0.9\n",
      "Val Loss:  0.20197160521315205\n"
     ]
    },
    {
     "name": "stderr",
     "output_type": "stream",
     "text": [
      "100%|████████████████████████████| 53/53 [00:00<00:00, 116.32it/s, Loss=2.96e-6]\n"
     ]
    },
    {
     "name": "stdout",
     "output_type": "stream",
     "text": [
      "Train Loss:  0.00017966487529571718\n"
     ]
    },
    {
     "name": "stderr",
     "output_type": "stream",
     "text": [
      "100%|██████████████████████████████████████████| 18/18 [00:00<00:00, 260.30it/s]\n"
     ]
    },
    {
     "name": "stdout",
     "output_type": "stream",
     "text": [
      "Val Accuracy:  0.9866666666666666\n",
      "Val Loss:  0.18450338546083206\n"
     ]
    },
    {
     "name": "stderr",
     "output_type": "stream",
     "text": [
      "100%|████████████████████████████| 53/53 [00:00<00:00, 117.82it/s, Loss=3.66e-6]\n"
     ]
    },
    {
     "name": "stdout",
     "output_type": "stream",
     "text": [
      "Train Loss:  0.0003804353381220385\n"
     ]
    },
    {
     "name": "stderr",
     "output_type": "stream",
     "text": [
      "100%|██████████████████████████████████████████| 18/18 [00:00<00:00, 253.20it/s]\n"
     ]
    },
    {
     "name": "stdout",
     "output_type": "stream",
     "text": [
      "Val Accuracy:  0.9230769230769231\n",
      "Val Loss:  0.2107637639467915\n"
     ]
    },
    {
     "name": "stderr",
     "output_type": "stream",
     "text": [
      "100%|█████████████████████████████| 53/53 [00:00<00:00, 124.80it/s, Loss=2.2e-6]\n"
     ]
    },
    {
     "name": "stdout",
     "output_type": "stream",
     "text": [
      "Train Loss:  0.00020189866267868775\n"
     ]
    },
    {
     "name": "stderr",
     "output_type": "stream",
     "text": [
      "100%|██████████████████████████████████████████| 18/18 [00:00<00:00, 270.48it/s]\n"
     ]
    },
    {
     "name": "stdout",
     "output_type": "stream",
     "text": [
      "Val Accuracy:  1.0\n",
      "Val Loss:  0.20408391619821487\n"
     ]
    },
    {
     "name": "stderr",
     "output_type": "stream",
     "text": [
      "100%|████████████████████████████| 53/53 [00:00<00:00, 117.67it/s, Loss=2.05e-6]\n"
     ]
    },
    {
     "name": "stdout",
     "output_type": "stream",
     "text": [
      "Train Loss:  0.00031946422949066854\n"
     ]
    },
    {
     "name": "stderr",
     "output_type": "stream",
     "text": [
      "100%|██████████████████████████████████████████| 18/18 [00:00<00:00, 251.93it/s]\n"
     ]
    },
    {
     "name": "stdout",
     "output_type": "stream",
     "text": [
      "Val Accuracy:  0.935064935064935\n",
      "Val Loss:  0.21034509243650568\n"
     ]
    },
    {
     "name": "stderr",
     "output_type": "stream",
     "text": [
      "100%|████████████████████████████| 53/53 [00:00<00:00, 117.72it/s, Loss=2.38e-6]\n"
     ]
    },
    {
     "name": "stdout",
     "output_type": "stream",
     "text": [
      "Train Loss:  0.0002505347565226897\n"
     ]
    },
    {
     "name": "stderr",
     "output_type": "stream",
     "text": [
      "100%|██████████████████████████████████████████| 18/18 [00:00<00:00, 258.58it/s]\n"
     ]
    },
    {
     "name": "stdout",
     "output_type": "stream",
     "text": [
      "Val Accuracy:  0.868421052631579\n",
      "Val Loss:  0.21354537493445808\n"
     ]
    },
    {
     "name": "stderr",
     "output_type": "stream",
     "text": [
      "100%|████████████████████████████| 53/53 [00:00<00:00, 118.10it/s, Loss=2.32e-6]\n"
     ]
    },
    {
     "name": "stdout",
     "output_type": "stream",
     "text": [
      "Train Loss:  0.0002646179775809905\n"
     ]
    },
    {
     "name": "stderr",
     "output_type": "stream",
     "text": [
      "100%|██████████████████████████████████████████| 18/18 [00:00<00:00, 260.78it/s]\n"
     ]
    },
    {
     "name": "stdout",
     "output_type": "stream",
     "text": [
      "Val Accuracy:  0.9736842105263158\n",
      "Val Loss:  0.21490062504178947\n",
      "Train Loss List:  [0.00425134556719127, 0.003997008976477686, 0.006360585806245546, 0.0021539302526331805, 0.0032644911610437907, 0.0023224137648352517, 0.0017877387025400134, 0.001800578800526328, 0.0009403254926786209, 0.0006220783150226607, 0.0006458462575605119, 0.00033016104598058483, 0.00028425019198313647, 0.0003305662546994907, 0.00028283749175246175, 0.0002530244787178746, 0.0002321450745357823, 0.0002729705306849627, 0.0002486414618084931, 0.0002320865970809877, 0.00023169853758825515, 0.0002621569834394355, 0.00024111702667673767, 0.0002294894364000219, 0.0002541396544752645, 0.0003172250840179913, 0.0002217751523489223, 0.0002806593283221103, 0.00024674767366875285, 0.00024461848442166776, 0.00023596629216626752, 0.00022354742686987283, 0.00025600447589945444, 0.0002590265947150809, 0.0003070951982683152, 0.00024220170828228666, 0.00019335964496452297, 0.00024120647896419336, 0.00024342283593384463, 0.0003734222508520138, 0.000380984866472678, 0.00021654098018961172, 0.000316054927933057, 0.0002499418165130782, 0.0003499898610089248, 0.00027297350012510304, 0.0002992316606453659, 0.00022099786649033495, 0.0002618370138381304, 0.0002057482919390854, 0.0002104157334834558, 0.0002442183901046451, 0.00022270142021367956, 0.00033751616743791363, 0.00024976307854300995, 0.00021179627790474424, 0.00025004177287230977, 0.00027125236264733104, 0.00023095659987189238, 0.00019698141369095743, 0.0002569492682278854, 0.00021426475884151651, 0.0002512908661388655, 0.0002783925207225211, 0.00019429835905191553, 0.00024561560561744283, 0.0002739431020296801, 0.00020957872846527194, 0.00028643438206429737, 0.00024071655321411114, 0.0002712678947404438, 0.00020104884978073247, 0.0002344636253610588, 0.00026567612608790304, 0.0001983044839223438, 0.00025033974031456, 0.0002756064220626663, 0.00021140058288438013, 0.00028610633136446815, 0.00024091135728581921, 0.0003035453579406817, 0.00019904730446204717, 0.0002367030370110887, 0.00020666046620315787, 0.00031030045324812063, 0.00021012561437343702, 0.00022167208022172004, 0.00020886942988716087, 0.00025242442478549563, 0.00026953507632941973, 0.00036947857785958577, 0.00024123272648149345, 0.00017207804088971933, 0.0002493967410549336, 0.00017966487529571718, 0.0003804353381220385, 0.00020189866267868775, 0.00031946422949066854, 0.0002505347565226897, 0.0002646179775809905]\n",
      "Val Loss List:  [0.19785157301359707, 0.17914690946539244, 0.19874964783796006, 0.1727914706700378, 0.1668222633500894, 0.1633503477399548, 0.17933209406005013, 0.1906510852277279, 0.17422396089467737, 0.18171133287250996, 0.18749309983104467, 0.17444929832385647, 0.18498613892330062, 0.1813600468966696, 0.16938584701468548, 0.18891659741186434, 0.1734922043979168, 0.18582992752393088, 0.2018123318751653, 0.17845871340897349, 0.17881927494373587, 0.18602592622240385, 0.17564425374277765, 0.18604204969273674, 0.19821683327770895, 0.18114429319070446, 0.18743739587565264, 0.18566499546998078, 0.19093087605304188, 0.19116466927031675, 0.1837585473743578, 0.18933053521646392, 0.18753741992016634, 0.19066166463825437, 0.19499991741031408, 0.1918251762787501, 0.18014053794710586, 0.19432545929319328, 0.19424502758516204, 0.21201290749013424, 0.1913522072136402, 0.1950040575530794, 0.19936573546793726, 0.19705914121328127, 0.18782709849377474, 0.19555156471000779, 0.214890760059158, 0.1925542037934065, 0.19232920619348684, 0.19340920262038708, 0.19489732591642273, 0.19975915737450123, 0.1990835258944167, 0.20544973119265503, 0.18922149296849966, 0.18331967555503878, 0.1942834568520387, 0.19352248021297985, 0.19714049548686793, 0.21757905392183197, 0.1979375502301587, 0.19156154183049998, 0.2044678528068794, 0.1932328820435537, 0.20838266921540102, 0.20851129852235317, 0.20177498273551464, 0.21800564270880488, 0.19912691993845832, 0.18986925648318398, 0.20035663097062045, 0.1953403847809467, 0.20596013425125015, 0.19380931970145968, 0.20199464137355486, 0.20314228451914257, 0.19536062909497154, 0.20679697870380348, 0.21137266067994964, 0.17817978892061445, 0.21099157207128075, 0.18668986815545294, 0.2143035869424542, 0.19524316717353132, 0.20059309299621317, 0.20543849757976002, 0.20381114062749678, 0.22587374059690368, 0.206343749175883, 0.2033305230240027, 0.20377956413560444, 0.2201487466485964, 0.20724159189396435, 0.20197160521315205, 0.18450338546083206, 0.2107637639467915, 0.20408391619821487, 0.21034509243650568, 0.21354537493445808, 0.21490062504178947]\n",
      "Acc List:  [0.9610389610389611, 0.8095238095238095, 0.8048780487804877, 0.9230769230769231, 0.9589041095890412, 0.8947368421052632, 0.9230769230769231, 0.9230769230769231, 0.9090909090909091, 0.9249999999999999, 0.9863013698630138, 0.9210526315789473, 0.9333333333333332, 0.9333333333333332, 0.9599999999999999, 0.918918918918919, 0.9166666666666666, 0.9473684210526315, 0.9210526315789475, 0.9487179487179487, 0.935064935064935, 0.9135802469135802, 0.9873417721518987, 0.9487179487179487, 0.9230769230769231, 0.8831168831168831, 0.9610389610389611, 0.918918918918919, 0.9333333333333332, 0.9565217391304348, 0.9863013698630138, 0.918918918918919, 0.9066666666666667, 0.9156626506024096, 0.9863013698630138, 0.8767123287671232, 1.0, 0.8974358974358975, 0.9315068493150684, 0.9090909090909091, 0.9473684210526315, 0.9589041095890412, 0.868421052631579, 0.8571428571428572, 0.9367088607594937, 0.8717948717948718, 0.8888888888888888, 0.9459459459459459, 0.9113924050632911, 0.9230769230769231, 0.935064935064935, 0.9577464788732395, 0.9473684210526315, 0.935064935064935, 0.9863013698630138, 1.0, 0.9, 0.9113924050632911, 0.8500000000000001, 0.9736842105263158, 0.9743589743589743, 0.9599999999999999, 0.9500000000000001, 0.9866666666666666, 0.8947368421052632, 0.9610389610389611, 0.8860759493670887, 0.9230769230769231, 0.918918918918919, 0.9230769230769231, 0.8809523809523809, 0.9135802469135802, 0.9230769230769231, 0.9873417721518987, 0.8461538461538461, 0.9253731343283583, 0.9367088607594937, 0.972972972972973, 0.9367088607594937, 0.9866666666666666, 0.88, 0.9090909090909091, 0.8292682926829269, 0.9876543209876543, 0.9473684210526315, 0.9459459459459459, 0.8831168831168831, 0.9577464788732395, 0.9382716049382716, 0.9722222222222222, 0.9230769230769231, 0.875, 0.8974358974358975, 0.9, 0.9866666666666666, 0.9230769230769231, 1.0, 0.935064935064935, 0.868421052631579, 0.9736842105263158]\n"
     ]
    }
   ],
   "source": [
    "# Model Training on Train dataset and Evaluation on Validation dataset\n",
    "optimizer = torch.optim.Adam(model.parameters(),\n",
    "                             lr = 0.01)\n",
    "loss_fn = nn.CrossEntropyLoss().to(device)\n",
    "score_fn = f1_score\n",
    "\n",
    "train_loss_list = []\n",
    "val_loss_list = []\n",
    "f1_score_list = []\n",
    "n_epochs = 100\n",
    "best_acc = 0\n",
    "PATH = f'best-model.pt'\n",
    "\n",
    "for epoch in range(n_epochs):\n",
    "    # Model Training\n",
    "    train_loss = train(train_loader, \n",
    "                     model, \n",
    "                     optimizer, \n",
    "                     loss_fn)\n",
    "    print('Train Loss: ', train_loss)\n",
    "    train_loss_list.append(train_loss)\n",
    "    \n",
    "    # Model Evaluation\n",
    "    tags, predictions, val_loss, accuracy = evaluate(val_loader, \n",
    "                                                       model, \n",
    "                                                       loss_fn, \n",
    "                                                       score_fn)\n",
    "    print('Val Accuracy: ', accuracy)\n",
    "    print('Val Loss: ', val_loss)\n",
    "    val_loss_list.append(val_loss)\n",
    "    f1_score_list.append(accuracy)\n",
    "    \n",
    "    # Save model if Validation F1_Score is greather than 75%\n",
    "    if accuracy > best_acc and accuracy > 0.75:\n",
    "        torch.save(model.state_dict(), PATH)\n",
    "#         cm = multilabel_confusion_matrix(labels, predictions)"
   ]
  },
  {
   "cell_type": "code",
   "execution_count": 132,
   "id": "2945388b",
   "metadata": {},
   "outputs": [
    {
     "data": {
      "image/png": "[encoded data removed]",
      "text/plain": [
       "<Figure size 640x480 with 1 Axes>"
      ]
     },
     "metadata": {},
     "output_type": "display_data"
    }
   ],
   "source": [
    "# Training vs Validation Loss Plot\n",
    "epochs = np.arange(n_epochs)  \n",
    "\n",
    "plt.style.use('ggplot')\n",
    "plt.plot(epochs, train_loss_list, label = \"Training Loss\", color = \"red\", linewidth = '3')\n",
    "plt.plot(epochs, val_loss_list, label = \"Validation Loss\", color = \"green\", linewidth = '3')\n",
    "plt.xlabel('Epoch')\n",
    "plt.ylabel('Loss')\n",
    "plt.title('Training Loss vs Validation Loss', color = 'black')\n",
    "plt.legend(shadow = True, labelcolor = 'black')\n",
    "plt.savefig('Images/train_vs_val_loss_plot.png')"
   ]
  },
  {
   "cell_type": "code",
   "execution_count": 133,
   "id": "c61544bb",
   "metadata": {},
   "outputs": [
    {
     "data": {
      "image/png": "[encoded data removed]",
      "text/plain": [
       "<Figure size 640x480 with 1 Axes>"
      ]
     },
     "metadata": {},
     "output_type": "display_data"
    }
   ],
   "source": [
    "# Validation Accuracy Plot\n",
    "plt.plot(epochs, f1_score_list, color = 'blue', linewidth = '2')\n",
    "plt.xlabel('Epoch')\n",
    "plt.ylabel('F1_Score')\n",
    "plt.title('Validation Accuracy', color = 'black')\n",
    "plt.savefig('Images/f1_accuracy_plot.png')"
   ]
  },
  {
   "cell_type": "code",
   "execution_count": 134,
   "id": "ae6188d2",
   "metadata": {},
   "outputs": [
    {
     "data": {
      "text/plain": [
       "LSTM(\n",
       "  (embedding): Embedding(2196013, 300)\n",
       "  (lstm): LSTM(300, 20, num_layers=2, batch_first=True, bidirectional=True)\n",
       "  (fc): Linear(in_features=40, out_features=27, bias=True)\n",
       ")"
      ]
     },
     "execution_count": 134,
     "metadata": {},
     "output_type": "execute_result"
    }
   ],
   "source": [
    "# Save and Load the Model\n",
    "saved_model = LSTM(EMBEDDING_DIM, \n",
    "                   HIDDEN_DIM, \n",
    "                   OUTPUT_DIM, \n",
    "                   NUM_LAYERS, \n",
    "                   BIDIRECTION, \n",
    "                   DROPOUT).to(device)\n",
    "\n",
    "saved_model.load_state_dict(torch.load(PATH))\n",
    "saved_model.eval()"
   ]
  },
  {
   "cell_type": "code",
   "execution_count": 135,
   "id": "ec96c585",
   "metadata": {},
   "outputs": [
    {
     "name": "stderr",
     "output_type": "stream",
     "text": [
      "100%|███████████████████████████████████████| 981/981 [00:00<00:00, 2088.20it/s]\n",
      "/var/folders/hk/l7897jp170bb9tbb20n80tz00000gn/T/ipykernel_95115/2706907146.py:20: VisibleDeprecationWarning: Creating an ndarray from ragged nested sequences (which is a list-or-tuple of lists-or-tuples-or ndarrays with different lengths or shapes) is deprecated. If you meant to do this, you must specify 'dtype=object' when creating the ndarray.\n",
      "  predictions = np.array(predictions)\n"
     ]
    }
   ],
   "source": [
    "def predict(loader, \n",
    "            model):\n",
    "    predictions = []\n",
    "    for x, lengths in tqdm(loader):\n",
    "        with torch.no_grad():\n",
    "            y_pred = saved_model.forward(x, lengths)\n",
    "            \n",
    "            max_len = x.shape[1]\n",
    "\n",
    "            y_pred = y_pred.view(-1, y_pred.shape[-1])\n",
    "\n",
    "            max_preds = y_pred.argmax(dim = 1, keepdim = True) # Get the index of the max probability\n",
    "            predictions_iob = convert_idx_to_tags(slice_list((squeezed_list(max_preds)), max_len), False)\n",
    "            predictions.append(predictions_iob)\n",
    "    \n",
    "    return predictions\n",
    "\n",
    "        \n",
    "predictions = predict(test_loader, saved_model)\n",
    "predictions = np.array(predictions)\n",
    "predictions = predictions.squeeze().tolist()"
   ]
  },
  {
   "cell_type": "code",
   "execution_count": 144,
   "id": "273fe4d0",
   "metadata": {},
   "outputs": [
    {
     "name": "stdout",
     "output_type": "stream",
     "text": [
      "      ID                                      IOB Slot tags\n",
      "0      0                                        O O B_movie\n",
      "1      1                          O O O O O B_movie I_movie\n",
      "2      2                        O O O O O O B_movie I_movie\n",
      "3      3                                      O O O B_movie\n",
      "4      4                                      O O O B_movie\n",
      "..   ...                                                ...\n",
      "976  976        O O B_movie I_movie I_movie I_movie I_movie\n",
      "977  977                                  O O I_movie O O O\n",
      "978  978                O O O O O O B_producer I_producer O\n",
      "979  979  O O B_director I_director O O O O O B_language...\n",
      "980  980                   O O B_director O O O O B_country\n",
      "\n",
      "[981 rows x 2 columns]\n"
     ]
    }
   ],
   "source": [
    "# Creating Dictionary\n",
    "list_of_dict = []\n",
    "for i in range(len(predictions)):\n",
    "    temp_dict = {}\n",
    "    temp_dict[\"ID\"] = i\n",
    "    temp_dict[\"IOB Slot tags\"] = ' '.join(predictions[i])\n",
    "    list_of_dict.append(temp_dict)\n",
    "\n",
    "# Converting Dictionary to CSV and compress it for submission to CodaLab\n",
    "tags_df = pd.DataFrame.from_dict(list_of_dict)\n",
    "tags_df.to_csv('submission.csv.zip', compression = 'zip', index = False)\n",
    "print(tags_df)"
   ]
  }
 ],
 "metadata": {
  "kernelspec": {
   "display_name": "Python 3 (ipykernel)",
   "language": "python",
   "name": "python3"
  },
  "language_info": {
   "codemirror_mode": {
    "name": "ipython",
    "version": 3
   },
   "file_extension": ".py",
   "mimetype": "text/x-python",
   "name": "python",
   "nbconvert_exporter": "python",
   "pygments_lexer": "ipython3",
   "version": "3.10.8"
  }
 },
 "nbformat": 4,
 "nbformat_minor": 5
}
